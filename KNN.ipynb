{
 "cells": [
  {
   "cell_type": "code",
   "execution_count": 17,
   "id": "c00549b6",
   "metadata": {},
   "outputs": [
    {
     "data": {
      "text/html": [
       "<div>\n",
       "<style scoped>\n",
       "    .dataframe tbody tr th:only-of-type {\n",
       "        vertical-align: middle;\n",
       "    }\n",
       "\n",
       "    .dataframe tbody tr th {\n",
       "        vertical-align: top;\n",
       "    }\n",
       "\n",
       "    .dataframe thead th {\n",
       "        text-align: right;\n",
       "    }\n",
       "</style>\n",
       "<table border=\"1\" class=\"dataframe\">\n",
       "  <thead>\n",
       "    <tr style=\"text-align: right;\">\n",
       "      <th></th>\n",
       "      <th>0</th>\n",
       "      <th>1</th>\n",
       "      <th>2</th>\n",
       "      <th>3</th>\n",
       "      <th>4</th>\n",
       "      <th>5</th>\n",
       "      <th>6</th>\n",
       "      <th>7</th>\n",
       "      <th>8</th>\n",
       "      <th>9</th>\n",
       "      <th>10</th>\n",
       "      <th>11</th>\n",
       "      <th>12</th>\n",
       "      <th>13</th>\n",
       "      <th>14</th>\n",
       "      <th>15</th>\n",
       "      <th>16</th>\n",
       "    </tr>\n",
       "  </thead>\n",
       "  <tbody>\n",
       "    <tr>\n",
       "      <th>0</th>\n",
       "      <td>T</td>\n",
       "      <td>2</td>\n",
       "      <td>8</td>\n",
       "      <td>3</td>\n",
       "      <td>5</td>\n",
       "      <td>1</td>\n",
       "      <td>8</td>\n",
       "      <td>13</td>\n",
       "      <td>0</td>\n",
       "      <td>6</td>\n",
       "      <td>6</td>\n",
       "      <td>10</td>\n",
       "      <td>8</td>\n",
       "      <td>0</td>\n",
       "      <td>8</td>\n",
       "      <td>0</td>\n",
       "      <td>8</td>\n",
       "    </tr>\n",
       "    <tr>\n",
       "      <th>1</th>\n",
       "      <td>I</td>\n",
       "      <td>5</td>\n",
       "      <td>12</td>\n",
       "      <td>3</td>\n",
       "      <td>7</td>\n",
       "      <td>2</td>\n",
       "      <td>10</td>\n",
       "      <td>5</td>\n",
       "      <td>5</td>\n",
       "      <td>4</td>\n",
       "      <td>13</td>\n",
       "      <td>3</td>\n",
       "      <td>9</td>\n",
       "      <td>2</td>\n",
       "      <td>8</td>\n",
       "      <td>4</td>\n",
       "      <td>10</td>\n",
       "    </tr>\n",
       "    <tr>\n",
       "      <th>2</th>\n",
       "      <td>D</td>\n",
       "      <td>4</td>\n",
       "      <td>11</td>\n",
       "      <td>6</td>\n",
       "      <td>8</td>\n",
       "      <td>6</td>\n",
       "      <td>10</td>\n",
       "      <td>6</td>\n",
       "      <td>2</td>\n",
       "      <td>6</td>\n",
       "      <td>10</td>\n",
       "      <td>3</td>\n",
       "      <td>7</td>\n",
       "      <td>3</td>\n",
       "      <td>7</td>\n",
       "      <td>3</td>\n",
       "      <td>9</td>\n",
       "    </tr>\n",
       "    <tr>\n",
       "      <th>3</th>\n",
       "      <td>N</td>\n",
       "      <td>7</td>\n",
       "      <td>11</td>\n",
       "      <td>6</td>\n",
       "      <td>6</td>\n",
       "      <td>3</td>\n",
       "      <td>5</td>\n",
       "      <td>9</td>\n",
       "      <td>4</td>\n",
       "      <td>6</td>\n",
       "      <td>4</td>\n",
       "      <td>4</td>\n",
       "      <td>10</td>\n",
       "      <td>6</td>\n",
       "      <td>10</td>\n",
       "      <td>2</td>\n",
       "      <td>8</td>\n",
       "    </tr>\n",
       "    <tr>\n",
       "      <th>4</th>\n",
       "      <td>G</td>\n",
       "      <td>2</td>\n",
       "      <td>1</td>\n",
       "      <td>3</td>\n",
       "      <td>1</td>\n",
       "      <td>1</td>\n",
       "      <td>8</td>\n",
       "      <td>6</td>\n",
       "      <td>6</td>\n",
       "      <td>6</td>\n",
       "      <td>6</td>\n",
       "      <td>5</td>\n",
       "      <td>9</td>\n",
       "      <td>1</td>\n",
       "      <td>7</td>\n",
       "      <td>5</td>\n",
       "      <td>10</td>\n",
       "    </tr>\n",
       "  </tbody>\n",
       "</table>\n",
       "</div>"
      ],
      "text/plain": [
       "  0   1   2   3   4   5   6   7   8   9   10  11  12  13  14  15  16\n",
       "0  T   2   8   3   5   1   8  13   0   6   6  10   8   0   8   0   8\n",
       "1  I   5  12   3   7   2  10   5   5   4  13   3   9   2   8   4  10\n",
       "2  D   4  11   6   8   6  10   6   2   6  10   3   7   3   7   3   9\n",
       "3  N   7  11   6   6   3   5   9   4   6   4   4  10   6  10   2   8\n",
       "4  G   2   1   3   1   1   8   6   6   6   6   5   9   1   7   5  10"
      ]
     },
     "execution_count": 17,
     "metadata": {},
     "output_type": "execute_result"
    }
   ],
   "source": [
    "import pandas as pd\n",
    "import numpy as np\n",
    "import seaborn as sns\n",
    "import matplotlib.pyplot as plt\n",
    "\n",
    "# import the trainingset\n",
    "data = pd.read_csv('letter-recognition.csv',header=None)  \n",
    "data.head(5)"
   ]
  },
  {
   "cell_type": "code",
   "execution_count": 18,
   "id": "1f267f09",
   "metadata": {},
   "outputs": [],
   "source": [
    "from sklearn import tree\n",
    "from sklearn.model_selection import GridSearchCV\n",
    "import numpy as np\n",
    "import matplotlib.pyplot as plt\n",
    "import pandas as pd\n",
    "from sklearn.feature_selection import SelectFromModel\n",
    "from sklearn.model_selection import cross_val_score\n",
    "from sklearn.model_selection import train_test_split"
   ]
  },
  {
   "cell_type": "code",
   "execution_count": 19,
   "id": "4819f243",
   "metadata": {},
   "outputs": [],
   "source": [
    "# data preprocessing for H, K\n",
    "data = pd.read_csv('letter-recognition.csv',header=None) \n",
    "# pair H and K\n",
    "data_H = data[data[0] == 'H']\n",
    "data_K = data[data[0] == 'K']\n",
    "data1 = pd.concat([data_H, data_K], axis=0)\n",
    "data1.loc[data1[0] == 'H', 0] = 0\n",
    "data1.loc[data1[0] == 'K', 0] = 1 \n",
    "\n",
    "\n",
    "X_hk = data1[data1.columns[1:]]\n",
    "X_hk.reset_index(drop=True, inplace=True)\n",
    "y_hk = data1[0]\n",
    "y_hk.reset_index(drop=True, inplace=True)\n",
    "y_hk=y_hk.astype('int')\n",
    "\n",
    "X_train_hk,X_test_hk, y_train_hk, y_test_hk = train_test_split(X_hk,y_hk,test_size=0.1, random_state=90)"
   ]
  },
  {
   "cell_type": "code",
   "execution_count": 20,
   "id": "1ae7f730",
   "metadata": {},
   "outputs": [
    {
     "name": "stdout",
     "output_type": "stream",
     "text": [
      "max score：0.9516981132075472 number of neighbors for max score：1\n"
     ]
    },
    {
     "data": {
      "image/png": "[encoded data removed]",
      "text/plain": [
       "<Figure size 480x320 with 1 Axes>"
      ]
     },
     "metadata": {
      "needs_background": "light"
     },
     "output_type": "display_data"
    },
    {
     "name": "stdout",
     "output_type": "stream",
     "text": [
      "0.8101149425287357\n"
     ]
    }
   ],
   "source": [
    "# Model fitting for H,K classification \n",
    "from sklearn.neighbors import KNeighborsClassifier\n",
    "test = []\n",
    "for i in range(10):\n",
    "    knn = KNeighborsClassifier(n_neighbors=i+1)\n",
    "    knn = knn.fit(X_train_hk, y_train_hk)\n",
    "    score = cross_val_score(knn, X_train_hk, y_train_hk, cv=5).mean()\n",
    "    test.append(score);\n",
    "score_max = max(test)\n",
    "print('max score：{}'.format(score_max),\n",
    "      'number of neighbors for max score：{}'.format(test.index(score_max) + 1))\n",
    "plt.figure(dpi=80)\n",
    "plt.plot(range(1,11),test,'-r')\n",
    "plt.show();\n",
    "score = cross_val_score(knn, X_test_hk, y_test_hk , cv=5).mean()\n",
    "print(score)  "
   ]
  },
  {
   "cell_type": "code",
   "execution_count": 21,
   "id": "274fc4b8",
   "metadata": {},
   "outputs": [
    {
     "ename": "TypeError",
     "evalue": "Singleton array array(RFE(estimator=SVR(kernel='linear'), n_features_to_select=5),\n      dtype=object) cannot be considered a valid collection.",
     "output_type": "error",
     "traceback": [
      "\u001b[0;31m---------------------------------------------------------------------------\u001b[0m",
      "\u001b[0;31mTypeError\u001b[0m                                 Traceback (most recent call last)",
      "\u001b[1;32m/Users/lanjunzheng/Documents/GitHub/514-project2/KNN.ipynb Cell 5\u001b[0m in \u001b[0;36m<cell line: 10>\u001b[0;34m()\u001b[0m\n\u001b[1;32m      <a href='vscode-notebook-cell:/Users/lanjunzheng/Documents/GitHub/514-project2/KNN.ipynb#X24sZmlsZQ%3D%3D?line=7'>8</a>\u001b[0m selector\u001b[39m=\u001b[39m selector\u001b[39m.\u001b[39mfit(X_train_hk,y_train_hk)\n\u001b[1;32m      <a href='vscode-notebook-cell:/Users/lanjunzheng/Documents/GitHub/514-project2/KNN.ipynb#X24sZmlsZQ%3D%3D?line=8'>9</a>\u001b[0m x_feature_election_hk \u001b[39m=\u001b[39m selector\n\u001b[0;32m---> <a href='vscode-notebook-cell:/Users/lanjunzheng/Documents/GitHub/514-project2/KNN.ipynb#X24sZmlsZQ%3D%3D?line=9'>10</a>\u001b[0m X_feature_election_train_hk,X_feature_election_test_hk, y_feature_electiond_train_hk, y_feature_election_test_hk \u001b[39m=\u001b[39m train_test_split(x_feature_election_hk, y_hk, test_size\u001b[39m=\u001b[39;49m\u001b[39m0.1\u001b[39;49m,\n\u001b[1;32m     <a href='vscode-notebook-cell:/Users/lanjunzheng/Documents/GitHub/514-project2/KNN.ipynb#X24sZmlsZQ%3D%3D?line=10'>11</a>\u001b[0m                                                                                                    random_state\u001b[39m=\u001b[39;49m\u001b[39m90\u001b[39;49m)\n\u001b[1;32m     <a href='vscode-notebook-cell:/Users/lanjunzheng/Documents/GitHub/514-project2/KNN.ipynb#X24sZmlsZQ%3D%3D?line=11'>12</a>\u001b[0m test \u001b[39m=\u001b[39m []\n\u001b[1;32m     <a href='vscode-notebook-cell:/Users/lanjunzheng/Documents/GitHub/514-project2/KNN.ipynb#X24sZmlsZQ%3D%3D?line=12'>13</a>\u001b[0m \u001b[39mfor\u001b[39;00m i \u001b[39min\u001b[39;00m \u001b[39mrange\u001b[39m(\u001b[39m10\u001b[39m):\n",
      "File \u001b[0;32m~/opt/anaconda3/lib/python3.9/site-packages/sklearn/model_selection/_split.py:2417\u001b[0m, in \u001b[0;36mtrain_test_split\u001b[0;34m(test_size, train_size, random_state, shuffle, stratify, *arrays)\u001b[0m\n\u001b[1;32m   2414\u001b[0m \u001b[39mif\u001b[39;00m n_arrays \u001b[39m==\u001b[39m \u001b[39m0\u001b[39m:\n\u001b[1;32m   2415\u001b[0m     \u001b[39mraise\u001b[39;00m \u001b[39mValueError\u001b[39;00m(\u001b[39m\"\u001b[39m\u001b[39mAt least one array required as input\u001b[39m\u001b[39m\"\u001b[39m)\n\u001b[0;32m-> 2417\u001b[0m arrays \u001b[39m=\u001b[39m indexable(\u001b[39m*\u001b[39;49marrays)\n\u001b[1;32m   2419\u001b[0m n_samples \u001b[39m=\u001b[39m _num_samples(arrays[\u001b[39m0\u001b[39m])\n\u001b[1;32m   2420\u001b[0m n_train, n_test \u001b[39m=\u001b[39m _validate_shuffle_split(\n\u001b[1;32m   2421\u001b[0m     n_samples, test_size, train_size, default_test_size\u001b[39m=\u001b[39m\u001b[39m0.25\u001b[39m\n\u001b[1;32m   2422\u001b[0m )\n",
      "File \u001b[0;32m~/opt/anaconda3/lib/python3.9/site-packages/sklearn/utils/validation.py:378\u001b[0m, in \u001b[0;36mindexable\u001b[0;34m(*iterables)\u001b[0m\n\u001b[1;32m    359\u001b[0m \u001b[39m\"\"\"Make arrays indexable for cross-validation.\u001b[39;00m\n\u001b[1;32m    360\u001b[0m \n\u001b[1;32m    361\u001b[0m \u001b[39mChecks consistent length, passes through None, and ensures that everything\u001b[39;00m\n\u001b[0;32m   (...)\u001b[0m\n\u001b[1;32m    374\u001b[0m \u001b[39m    sparse matrix, or dataframe) or `None`.\u001b[39;00m\n\u001b[1;32m    375\u001b[0m \u001b[39m\"\"\"\u001b[39;00m\n\u001b[1;32m    377\u001b[0m result \u001b[39m=\u001b[39m [_make_indexable(X) \u001b[39mfor\u001b[39;00m X \u001b[39min\u001b[39;00m iterables]\n\u001b[0;32m--> 378\u001b[0m check_consistent_length(\u001b[39m*\u001b[39;49mresult)\n\u001b[1;32m    379\u001b[0m \u001b[39mreturn\u001b[39;00m result\n",
      "File \u001b[0;32m~/opt/anaconda3/lib/python3.9/site-packages/sklearn/utils/validation.py:329\u001b[0m, in \u001b[0;36mcheck_consistent_length\u001b[0;34m(*arrays)\u001b[0m\n\u001b[1;32m    318\u001b[0m \u001b[39mdef\u001b[39;00m \u001b[39mcheck_consistent_length\u001b[39m(\u001b[39m*\u001b[39marrays):\n\u001b[1;32m    319\u001b[0m     \u001b[39m\"\"\"Check that all arrays have consistent first dimensions.\u001b[39;00m\n\u001b[1;32m    320\u001b[0m \n\u001b[1;32m    321\u001b[0m \u001b[39m    Checks whether all objects in arrays have the same shape or length.\u001b[39;00m\n\u001b[0;32m   (...)\u001b[0m\n\u001b[1;32m    326\u001b[0m \u001b[39m        Objects that will be checked for consistent length.\u001b[39;00m\n\u001b[1;32m    327\u001b[0m \u001b[39m    \"\"\"\u001b[39;00m\n\u001b[0;32m--> 329\u001b[0m     lengths \u001b[39m=\u001b[39m [_num_samples(X) \u001b[39mfor\u001b[39;00m X \u001b[39min\u001b[39;00m arrays \u001b[39mif\u001b[39;00m X \u001b[39mis\u001b[39;00m \u001b[39mnot\u001b[39;00m \u001b[39mNone\u001b[39;00m]\n\u001b[1;32m    330\u001b[0m     uniques \u001b[39m=\u001b[39m np\u001b[39m.\u001b[39munique(lengths)\n\u001b[1;32m    331\u001b[0m     \u001b[39mif\u001b[39;00m \u001b[39mlen\u001b[39m(uniques) \u001b[39m>\u001b[39m \u001b[39m1\u001b[39m:\n",
      "File \u001b[0;32m~/opt/anaconda3/lib/python3.9/site-packages/sklearn/utils/validation.py:329\u001b[0m, in \u001b[0;36m<listcomp>\u001b[0;34m(.0)\u001b[0m\n\u001b[1;32m    318\u001b[0m \u001b[39mdef\u001b[39;00m \u001b[39mcheck_consistent_length\u001b[39m(\u001b[39m*\u001b[39marrays):\n\u001b[1;32m    319\u001b[0m     \u001b[39m\"\"\"Check that all arrays have consistent first dimensions.\u001b[39;00m\n\u001b[1;32m    320\u001b[0m \n\u001b[1;32m    321\u001b[0m \u001b[39m    Checks whether all objects in arrays have the same shape or length.\u001b[39;00m\n\u001b[0;32m   (...)\u001b[0m\n\u001b[1;32m    326\u001b[0m \u001b[39m        Objects that will be checked for consistent length.\u001b[39;00m\n\u001b[1;32m    327\u001b[0m \u001b[39m    \"\"\"\u001b[39;00m\n\u001b[0;32m--> 329\u001b[0m     lengths \u001b[39m=\u001b[39m [_num_samples(X) \u001b[39mfor\u001b[39;00m X \u001b[39min\u001b[39;00m arrays \u001b[39mif\u001b[39;00m X \u001b[39mis\u001b[39;00m \u001b[39mnot\u001b[39;00m \u001b[39mNone\u001b[39;00m]\n\u001b[1;32m    330\u001b[0m     uniques \u001b[39m=\u001b[39m np\u001b[39m.\u001b[39munique(lengths)\n\u001b[1;32m    331\u001b[0m     \u001b[39mif\u001b[39;00m \u001b[39mlen\u001b[39m(uniques) \u001b[39m>\u001b[39m \u001b[39m1\u001b[39m:\n",
      "File \u001b[0;32m~/opt/anaconda3/lib/python3.9/site-packages/sklearn/utils/validation.py:269\u001b[0m, in \u001b[0;36m_num_samples\u001b[0;34m(x)\u001b[0m\n\u001b[1;32m    267\u001b[0m \u001b[39mif\u001b[39;00m \u001b[39mhasattr\u001b[39m(x, \u001b[39m\"\u001b[39m\u001b[39mshape\u001b[39m\u001b[39m\"\u001b[39m) \u001b[39mand\u001b[39;00m x\u001b[39m.\u001b[39mshape \u001b[39mis\u001b[39;00m \u001b[39mnot\u001b[39;00m \u001b[39mNone\u001b[39;00m:\n\u001b[1;32m    268\u001b[0m     \u001b[39mif\u001b[39;00m \u001b[39mlen\u001b[39m(x\u001b[39m.\u001b[39mshape) \u001b[39m==\u001b[39m \u001b[39m0\u001b[39m:\n\u001b[0;32m--> 269\u001b[0m         \u001b[39mraise\u001b[39;00m \u001b[39mTypeError\u001b[39;00m(\n\u001b[1;32m    270\u001b[0m             \u001b[39m\"\u001b[39m\u001b[39mSingleton array \u001b[39m\u001b[39m%r\u001b[39;00m\u001b[39m cannot be considered a valid collection.\u001b[39m\u001b[39m\"\u001b[39m \u001b[39m%\u001b[39m x\n\u001b[1;32m    271\u001b[0m         )\n\u001b[1;32m    272\u001b[0m     \u001b[39m# Check that shape is returning an integer or default to len\u001b[39;00m\n\u001b[1;32m    273\u001b[0m     \u001b[39m# Dask dataframes may not return numeric shape[0] value\u001b[39;00m\n\u001b[1;32m    274\u001b[0m     \u001b[39mif\u001b[39;00m \u001b[39misinstance\u001b[39m(x\u001b[39m.\u001b[39mshape[\u001b[39m0\u001b[39m], numbers\u001b[39m.\u001b[39mIntegral):\n",
      "\u001b[0;31mTypeError\u001b[0m: Singleton array array(RFE(estimator=SVR(kernel='linear'), n_features_to_select=5),\n      dtype=object) cannot be considered a valid collection."
     ]
    }
   ],
   "source": [
    "# Model fitting for H,K classification with Feature Selection\n",
    "from sklearn.feature_selection import RFE\n",
    "from sklearn.svm import SVR\n",
    "from sklearn.neighbors import KNeighborsClassifier\n",
    "\n",
    "estimator = SVR(kernel=\"linear\")\n",
    "selector = RFE(estimator, n_features_to_select=5, step=1)\n",
    "selector= selector.fit(X_train_hk,y_train_hk)\n",
    "x_feature_election_hk = selector\n",
    "X_feature_election_train_hk,X_feature_election_test_hk, y_feature_electiond_train_hk, y_feature_election_test_hk = train_test_split(x_feature_election_hk, y_hk, test_size=0.1,\n",
    "                                                                                                   random_state=90)\n",
    "test = []\n",
    "for i in range(10):\n",
    "    knn = KNeighborsClassifier(n_neighbors=i + 1)\n",
    "    knn = knn.fit(X_feature_election_train_hk,  y_feature_electiond_train_hk)\n",
    "    score = cross_val_score(knn, X_feature_election_train_hk,  y_feature_electiond_train_hk, cv=5).mean()\n",
    "    test.append(score);\n",
    "score_max = max(test)\n",
    "print('max score：{}'.format(score_max),\n",
    "      'number of neighbors for max score：{}'.format(test.index(score_max) + 1))\n",
    "plt.figure(dpi=80)\n",
    "plt.plot(range(1,11),test,'-r')\n",
    "plt.show();\n",
    "score = cross_val_score(knn, X_feature_election_test_hk, y_feature_election_test_hk, cv=5).mean()\n",
    "print(score)  "
   ]
  },
  {
   "cell_type": "code",
   "execution_count": null,
   "id": "8e47c614",
   "metadata": {},
   "outputs": [],
   "source": [
    "# data preprocessing for M, Y\n",
    "data = pd.read_csv('letter-recognition.csv',header=None) \n",
    "# pair M and Y\n",
    "data_M = data[data[0] == 'M']\n",
    "data_Y = data[data[0] == 'Y']\n",
    "data1 = pd.concat([data_M, data_Y], axis=0)\n",
    "data1.loc[data1[0] == 'M', 0] = 0\n",
    "data1.loc[data1[0] == 'Y', 0] = 1 \n",
    "\n",
    "\n",
    "X_my = data1[data1.columns[1:]]\n",
    "X_my.reset_index(drop=True, inplace=True)\n",
    "y_my = data1[0]\n",
    "y_my.reset_index(drop=True, inplace=True)\n",
    "y_my=y_my.astype('int')\n",
    "\n",
    "X_train_my,X_test_my, y_train_my, y_test_my = train_test_split(X_my,y_my,test_size=0.1, random_state=90)"
   ]
  },
  {
   "cell_type": "code",
   "execution_count": null,
   "id": "63078a77",
   "metadata": {},
   "outputs": [],
   "source": [
    "# Model fitting for M,Y classification\n",
    "from sklearn.neighbors import KNeighborsClassifier\n",
    "\n",
    "test = []\n",
    "for i in range(10):\n",
    "    knn = KNeighborsClassifier(n_neighbors=i)\n",
    "    knn = knn.fit(X_train_my, y_train_my)\n",
    "    score = cross_val_score(knn, X_train_my, y_train_my, cv=5).mean()\n",
    "    test.append(score);\n",
    "score_max = max(test)\n",
    "print('max score：{}'.format(score_max),\n",
    "      'number of neighbors for max score：{}'.format(test.index(score_max) + 1))\n",
    "plt.figure(dpi=80)\n",
    "plt.plot(range(1,11),test,'-r')\n",
    "plt.show();\n",
    "score = cross_val_score(knn, X_test_my, y_test_my , cv=5).mean()\n",
    "print(score)  "
   ]
  },
  {
   "cell_type": "code",
   "execution_count": null,
   "id": "41a06ffa",
   "metadata": {},
   "outputs": [
    {
     "name": "stdout",
     "output_type": "stream",
     "text": [
      "max score：0.9845070422535211 number of subtree for max score：8\n"
     ]
    },
    {
     "data": {
      "image/png": "[encoded data removed]",
      "text/plain": [
       "<Figure size 480x320 with 1 Axes>"
      ]
     },
     "metadata": {
      "needs_background": "light"
     },
     "output_type": "display_data"
    },
    {
     "name": "stdout",
     "output_type": "stream",
     "text": [
      "0.942741935483871\n"
     ]
    }
   ],
   "source": [
    "# Model fitting for M,Y classification with embedded Methods\n",
    "from sklearn.datasets import make_friedman1\n",
    "from sklearn.feature_selection import RFE\n",
    "from sklearn.svm import SVR\n",
    "from sklearn.neighbors import KNeighborsClassifier\n",
    "\n",
    "estimator = SVR(kernel=\"linear\")\n",
    "selector = RFE(estimator, n_features_to_select=5, step=1)\n",
    "x_feature_election_my = selector.fit(X_train_my,y_train_my)\n",
    "X_feature_election_train_my,X_feature_election_test_my, y_feature_electiond_train_my, y_feature_election_test_my = train_test_split(x_feature_election_my,y_my,test_size=0.1,\n",
    "                                                                                                   random_state=90)\n",
    "test = []\n",
    "for i in range(10):\n",
    "    knn = KNeighborsClassifier(n_neighbors=i + 1)\n",
    "    knn = knn.fit(X_feature_election_train_my,  y_feature_electiond_train_my)\n",
    "    score = cross_val_score(knn, X_feature_election_train_my,  y_feature_electiond_train_my, cv=5).mean()\n",
    "    test.append(score);\n",
    "score_max = max(test)\n",
    "print('max score：{}'.format(score_max),\n",
    "      'number of neighbors for max score：{}'.format(test.index(score_max) + 1))\n",
    "plt.figure(dpi=80)\n",
    "plt.plot(range(1,11),test,'-r')\n",
    "plt.show();\n",
    "score = cross_val_score(knn, X_feature_election_test_my, y_feature_election_test_my, cv=5).mean()\n",
    "print(score)  "
   ]
  },
  {
   "cell_type": "code",
   "execution_count": null,
   "id": "8f3df94f",
   "metadata": {},
   "outputs": [],
   "source": [
    "# data preprocessing for E, F\n",
    "data = pd.read_csv('letter-recognition.csv',header=None) \n",
    "# pair E and F\n",
    "data_E = data[data[0] == 'E']\n",
    "data_F = data[data[0] == 'F']\n",
    "data1 = pd.concat([data_E, data_F], axis=0)\n",
    "data1.loc[data1[0] == 'E', 0] = 0\n",
    "data1.loc[data1[0] == 'F', 0] = 1 \n",
    "\n",
    "X_ef = data1[data1.columns[1:]]\n",
    "X_ef.reset_index(drop=True, inplace=True)\n",
    "y_ef = data1[0]\n",
    "y_ef.reset_index(drop=True, inplace=True)\n",
    "y_ef=y_ef.astype('int')\n",
    "\n",
    "X_train_ef,X_test_ef, y_train_ef, y_test_ef = train_test_split(X_ef,y_ef,test_size=0.1, random_state=90)"
   ]
  },
  {
   "cell_type": "code",
   "execution_count": null,
   "id": "54b1b01a",
   "metadata": {},
   "outputs": [
    {
     "name": "stdout",
     "output_type": "stream",
     "text": [
      "max score：0.9992805755395683 number of neighbors for max score：1\n"
     ]
    },
    {
     "data": {
      "image/png": "[encoded data removed]",
      "text/plain": [
       "<Figure size 480x320 with 1 Axes>"
      ]
     },
     "metadata": {
      "needs_background": "light"
     },
     "output_type": "display_data"
    },
    {
     "name": "stdout",
     "output_type": "stream",
     "text": [
      "0.9032258064516128\n"
     ]
    }
   ],
   "source": [
    "# Model fitting for E,F classification with Feature Selection Methods\n",
    "from sklearn.neighbors import KNeighborsClassifier\n",
    "\n",
    "\n",
    "test = []\n",
    "for i in range(10):\n",
    "    knn = KNeighborsClassifier(n_neighbors=i+1)\n",
    "    knn = knn.fit(X_train_ef, y_train_ef)\n",
    "    score = cross_val_score(knn, X_train_ef, y_train_ef, cv=5).mean()\n",
    "    test.append(score);\n",
    "score_max = max(test)\n",
    "print('max score：{}'.format(score_max),\n",
    "      'number of neighbors for max score：{}'.format(test.index(score_max) + 1))\n",
    "plt.figure(dpi=80)\n",
    "plt.plot(range(1,11),test,'-r')\n",
    "plt.show();\n",
    "score = cross_val_score(knn, X_test_ef, y_test_ef , cv=5).mean()\n",
    "print(score)  "
   ]
  },
  {
   "cell_type": "code",
   "execution_count": null,
   "id": "4621747f",
   "metadata": {},
   "outputs": [
    {
     "ename": "NameError",
     "evalue": "name 'X_train_ef' is not defined",
     "output_type": "error",
     "traceback": [
      "\u001b[0;31m---------------------------------------------------------------------------\u001b[0m",
      "\u001b[0;31mNameError\u001b[0m                                 Traceback (most recent call last)",
      "\u001b[1;32m/Users/lanjunzheng/Documents/GitHub/514-project2/decision tree copy.ipynb Cell 11\u001b[0m in \u001b[0;36m<cell line: 9>\u001b[0;34m()\u001b[0m\n\u001b[1;32m      <a href='vscode-notebook-cell:/Users/lanjunzheng/Documents/GitHub/514-project2/decision%20tree%20copy.ipynb#X13sZmlsZQ%3D%3D?line=6'>7</a>\u001b[0m estimator \u001b[39m=\u001b[39m SVR(kernel\u001b[39m=\u001b[39m\u001b[39m\"\u001b[39m\u001b[39mlinear\u001b[39m\u001b[39m\"\u001b[39m)\n\u001b[1;32m      <a href='vscode-notebook-cell:/Users/lanjunzheng/Documents/GitHub/514-project2/decision%20tree%20copy.ipynb#X13sZmlsZQ%3D%3D?line=7'>8</a>\u001b[0m selector \u001b[39m=\u001b[39m RFE(estimator, n_features_to_select\u001b[39m=\u001b[39m\u001b[39m5\u001b[39m, step\u001b[39m=\u001b[39m\u001b[39m1\u001b[39m)\n\u001b[0;32m----> <a href='vscode-notebook-cell:/Users/lanjunzheng/Documents/GitHub/514-project2/decision%20tree%20copy.ipynb#X13sZmlsZQ%3D%3D?line=8'>9</a>\u001b[0m x_feature_election_ef \u001b[39m=\u001b[39m selector\u001b[39m.\u001b[39mfit(X_train_ef,y_train_ef)\n\u001b[1;32m     <a href='vscode-notebook-cell:/Users/lanjunzheng/Documents/GitHub/514-project2/decision%20tree%20copy.ipynb#X13sZmlsZQ%3D%3D?line=9'>10</a>\u001b[0m X_feature_election_train_ef,X_feature_election_test_ef, y_feature_electiond_train_ef, y_feature_election_test_ef \u001b[39m=\u001b[39m train_test_split(x_feature_election_ef,y_ef,test_size\u001b[39m=\u001b[39m\u001b[39m0.1\u001b[39m,\n\u001b[1;32m     <a href='vscode-notebook-cell:/Users/lanjunzheng/Documents/GitHub/514-project2/decision%20tree%20copy.ipynb#X13sZmlsZQ%3D%3D?line=10'>11</a>\u001b[0m                                                                                                    random_state\u001b[39m=\u001b[39m\u001b[39m90\u001b[39m)\n\u001b[1;32m     <a href='vscode-notebook-cell:/Users/lanjunzheng/Documents/GitHub/514-project2/decision%20tree%20copy.ipynb#X13sZmlsZQ%3D%3D?line=11'>12</a>\u001b[0m test \u001b[39m=\u001b[39m []\n",
      "\u001b[0;31mNameError\u001b[0m: name 'X_train_ef' is not defined"
     ]
    }
   ],
   "source": [
    "# Model fitting for E,F classification with Feature Selection Methods\n",
    "from sklearn.datasets import make_friedman1\n",
    "from sklearn.feature_selection import RFE\n",
    "from sklearn.svm import SVR\n",
    "from sklearn.neighbors import KNeighborsClassifier\n",
    "\n",
    "estimator = SVR(kernel=\"linear\")\n",
    "selector = RFE(estimator, n_features_to_select=5, step=1)\n",
    "x_feature_election_ef = selector.fit(X_train_ef,y_train_ef)\n",
    "X_feature_election_train_ef,X_feature_election_test_ef, y_feature_electiond_train_ef, y_feature_election_test_ef = train_test_split(x_feature_election_ef,y_ef,test_size=0.1,\n",
    "                                                                                                   random_state=90)\n",
    "test = []\n",
    "for i in range(10):\n",
    "    knn = KNeighborsClassifier(n_neighbors=i)\n",
    "    knn = knn.fit(X_feature_election_train_ef,  y_feature_electiond_train_ef)\n",
    "    score = cross_val_score(knn, X_feature_election_train_ef,  y_feature_electiond_train_ef, cv=5).mean()\n",
    "    test.append(score);\n",
    "score_max = max(test)\n",
    "print('max score：{}'.format(score_max),\n",
    "      'number of neighbors for max score：{}'.format(test.index(score_max) + 1))\n",
    "plt.figure(dpi=80)\n",
    "plt.plot(range(1,11),test,'-r')\n",
    "plt.show();\n",
    "score = cross_val_score(knn, X_feature_election_test_ef, y_feature_election_test_ef, cv=5).mean()\n",
    "print(score)  "
   ]
  },
  {
   "cell_type": "code",
   "execution_count": null,
   "id": "a943d201",
   "metadata": {},
   "outputs": [],
   "source": [
    "#   data preprocessing for mulit\n",
    "data = pd.read_csv('letter-recognition.csv',header=None) \n",
    "data\n",
    "for i in range(20000):\n",
    "    data.iloc[i, 0] = ord(data.iloc[i, 0]) - ord('A');\n",
    "    \n",
    "X_multi = data[data.columns[1:]]\n",
    "X_multi.reset_index(drop=True, inplace=True)\n",
    "y_multi = data[0]\n",
    "y_multi.reset_index(drop=True, inplace=True)\n",
    "y_multi =y_multi.astype('int')\n",
    "\n",
    "X_train_multi,X_test_multi, y_train_multi, y_test_multi = train_test_split(X_multi,y_multi,test_size=0.1, random_state=90)"
   ]
  },
  {
   "cell_type": "code",
   "execution_count": null,
   "id": "d510cf06",
   "metadata": {},
   "outputs": [
    {
     "name": "stdout",
     "output_type": "stream",
     "text": [
      "max score：0.952888888888889 number of neighbors for max score：1\n"
     ]
    },
    {
     "data": {
      "image/png": "[encoded data removed]",
      "text/plain": [
       "<Figure size 480x320 with 1 Axes>"
      ]
     },
     "metadata": {
      "needs_background": "light"
     },
     "output_type": "display_data"
    },
    {
     "name": "stdout",
     "output_type": "stream",
     "text": [
      "0.711\n"
     ]
    }
   ],
   "source": [
    "# Model fitting for mulit classification\n",
    "# Model fitting for E,F classification with Feature Selection Methods\n",
    "from sklearn.neighbors import KNeighborsClassifier\n",
    "\n",
    "\n",
    "test = []\n",
    "for i in range(10):\n",
    "    knn = KNeighborsClassifier(n_neighbors=i+1)\n",
    "    knn = knn.fit(X_train_multi, y_train_multi)\n",
    "    score = cross_val_score(knn, X_train_multi, y_train_multi, cv=5).mean()\n",
    "    test.append(score);\n",
    "score_max = max(test)\n",
    "print('max score：{}'.format(score_max),\n",
    "      'number of neighbors for max score：{}'.format(test.index(score_max) + 1))\n",
    "plt.figure(dpi=80)\n",
    "plt.plot(range(1,11),test,'-r')\n",
    "plt.show();\n",
    "score = cross_val_score(knn, X_test_multi, y_test_multi , cv=5).mean()\n",
    "print(score)  "
   ]
  },
  {
   "cell_type": "code",
   "execution_count": null,
   "id": "1cce511e",
   "metadata": {},
   "outputs": [],
   "source": [
    "# Model fitting for mulit classification with  Feature Selection Methods\n",
    "from sklearn.datasets import make_friedman1\n",
    "from sklearn.feature_selection import RFE\n",
    "from sklearn.svm import SVR\n",
    "from sklearn.neighbors import KNeighborsClassifier\n",
    "\n",
    "estimator = SVR(kernel=\"linear\")\n",
    "selector = RFE(estimator, n_features_to_select=5, step=1)\n",
    "x_feature_election_ef = selector.fit(X_train_ef,y_train_ef)\n",
    "X_feature_election_train_ef,X_feature_election_test_ef, y_feature_electiond_train_ef, y_feature_election_test_ef = train_test_split(x_feature_election_ef,y_ef,test_size=0.1,\n",
    "                                                                                                   random_state=90)\n",
    "test = []\n",
    "for i in range(10):\n",
    "    knn = KNeighborsClassifier(n_neighbors=i+1)\n",
    "    knn = knn.fit(X_train_multi, y_train_multi)\n",
    "    score = cross_val_score(knn, X_train_multi, y_train_multi, cv=5).mean()\n",
    "    test.append(score);\n",
    "score_max = max(test)\n",
    "print('max score：{}'.format(score_max),\n",
    "      'number of neighbors for max score：{}'.format(test.index(score_max) + 1))\n",
    "plt.figure(dpi=80)\n",
    "plt.plot(range(1,11),test,'-r')\n",
    "plt.show();\n",
    "score = cross_val_score(knn, X_test_multi, y_test_multi , cv=5).mean()\n",
    "print(score)  "
   ]
  }
 ],
 "metadata": {
  "kernelspec": {
   "display_name": "Python 3.9.12 ('base')",
   "language": "python",
   "name": "python3"
  },
  "language_info": {
   "codemirror_mode": {
    "name": "ipython",
    "version": 3
   },
   "file_extension": ".py",
   "mimetype": "text/x-python",
   "name": "python",
   "nbconvert_exporter": "python",
   "pygments_lexer": "ipython3",
   "version": "3.9.12"
  },
  "vscode": {
   "interpreter": {
    "hash": "f301a4801075681c2dfe256e9fb25d4cb5a27413f9c928f63d09c8fe5f4d2935"
   }
  }
 },
 "nbformat": 4,
 "nbformat_minor": 5
}
