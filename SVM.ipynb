{
 "cells": [
  {
   "cell_type": "code",
   "execution_count": 1,
   "id": "c00549b6",
   "metadata": {},
   "outputs": [
    {
     "data": {
      "text/html": [
       "<div>\n",
       "<style scoped>\n",
       "    .dataframe tbody tr th:only-of-type {\n",
       "        vertical-align: middle;\n",
       "    }\n",
       "\n",
       "    .dataframe tbody tr th {\n",
       "        vertical-align: top;\n",
       "    }\n",
       "\n",
       "    .dataframe thead th {\n",
       "        text-align: right;\n",
       "    }\n",
       "</style>\n",
       "<table border=\"1\" class=\"dataframe\">\n",
       "  <thead>\n",
       "    <tr style=\"text-align: right;\">\n",
       "      <th></th>\n",
       "      <th>0</th>\n",
       "      <th>1</th>\n",
       "      <th>2</th>\n",
       "      <th>3</th>\n",
       "      <th>4</th>\n",
       "      <th>5</th>\n",
       "      <th>6</th>\n",
       "      <th>7</th>\n",
       "      <th>8</th>\n",
       "      <th>9</th>\n",
       "      <th>10</th>\n",
       "      <th>11</th>\n",
       "      <th>12</th>\n",
       "      <th>13</th>\n",
       "      <th>14</th>\n",
       "      <th>15</th>\n",
       "      <th>16</th>\n",
       "    </tr>\n",
       "  </thead>\n",
       "  <tbody>\n",
       "    <tr>\n",
       "      <th>0</th>\n",
       "      <td>T</td>\n",
       "      <td>2</td>\n",
       "      <td>8</td>\n",
       "      <td>3</td>\n",
       "      <td>5</td>\n",
       "      <td>1</td>\n",
       "      <td>8</td>\n",
       "      <td>13</td>\n",
       "      <td>0</td>\n",
       "      <td>6</td>\n",
       "      <td>6</td>\n",
       "      <td>10</td>\n",
       "      <td>8</td>\n",
       "      <td>0</td>\n",
       "      <td>8</td>\n",
       "      <td>0</td>\n",
       "      <td>8</td>\n",
       "    </tr>\n",
       "    <tr>\n",
       "      <th>1</th>\n",
       "      <td>I</td>\n",
       "      <td>5</td>\n",
       "      <td>12</td>\n",
       "      <td>3</td>\n",
       "      <td>7</td>\n",
       "      <td>2</td>\n",
       "      <td>10</td>\n",
       "      <td>5</td>\n",
       "      <td>5</td>\n",
       "      <td>4</td>\n",
       "      <td>13</td>\n",
       "      <td>3</td>\n",
       "      <td>9</td>\n",
       "      <td>2</td>\n",
       "      <td>8</td>\n",
       "      <td>4</td>\n",
       "      <td>10</td>\n",
       "    </tr>\n",
       "    <tr>\n",
       "      <th>2</th>\n",
       "      <td>D</td>\n",
       "      <td>4</td>\n",
       "      <td>11</td>\n",
       "      <td>6</td>\n",
       "      <td>8</td>\n",
       "      <td>6</td>\n",
       "      <td>10</td>\n",
       "      <td>6</td>\n",
       "      <td>2</td>\n",
       "      <td>6</td>\n",
       "      <td>10</td>\n",
       "      <td>3</td>\n",
       "      <td>7</td>\n",
       "      <td>3</td>\n",
       "      <td>7</td>\n",
       "      <td>3</td>\n",
       "      <td>9</td>\n",
       "    </tr>\n",
       "    <tr>\n",
       "      <th>3</th>\n",
       "      <td>N</td>\n",
       "      <td>7</td>\n",
       "      <td>11</td>\n",
       "      <td>6</td>\n",
       "      <td>6</td>\n",
       "      <td>3</td>\n",
       "      <td>5</td>\n",
       "      <td>9</td>\n",
       "      <td>4</td>\n",
       "      <td>6</td>\n",
       "      <td>4</td>\n",
       "      <td>4</td>\n",
       "      <td>10</td>\n",
       "      <td>6</td>\n",
       "      <td>10</td>\n",
       "      <td>2</td>\n",
       "      <td>8</td>\n",
       "    </tr>\n",
       "    <tr>\n",
       "      <th>4</th>\n",
       "      <td>G</td>\n",
       "      <td>2</td>\n",
       "      <td>1</td>\n",
       "      <td>3</td>\n",
       "      <td>1</td>\n",
       "      <td>1</td>\n",
       "      <td>8</td>\n",
       "      <td>6</td>\n",
       "      <td>6</td>\n",
       "      <td>6</td>\n",
       "      <td>6</td>\n",
       "      <td>5</td>\n",
       "      <td>9</td>\n",
       "      <td>1</td>\n",
       "      <td>7</td>\n",
       "      <td>5</td>\n",
       "      <td>10</td>\n",
       "    </tr>\n",
       "  </tbody>\n",
       "</table>\n",
       "</div>"
      ],
      "text/plain": [
       "  0   1   2   3   4   5   6   7   8   9   10  11  12  13  14  15  16\n",
       "0  T   2   8   3   5   1   8  13   0   6   6  10   8   0   8   0   8\n",
       "1  I   5  12   3   7   2  10   5   5   4  13   3   9   2   8   4  10\n",
       "2  D   4  11   6   8   6  10   6   2   6  10   3   7   3   7   3   9\n",
       "3  N   7  11   6   6   3   5   9   4   6   4   4  10   6  10   2   8\n",
       "4  G   2   1   3   1   1   8   6   6   6   6   5   9   1   7   5  10"
      ]
     },
     "execution_count": 1,
     "metadata": {},
     "output_type": "execute_result"
    }
   ],
   "source": [
    "import pandas as pd\n",
    "import numpy as np\n",
    "import seaborn as sns\n",
    "import matplotlib.pyplot as plt\n",
    "\n",
    "# import the trainingset\n",
    "data = pd.read_csv('letter-recognition.csv',header=None)  \n",
    "data.head(5)"
   ]
  },
  {
   "cell_type": "code",
   "execution_count": 5,
   "id": "1f267f09",
   "metadata": {},
   "outputs": [],
   "source": [
    "from sklearn import tree\n",
    "from sklearn.model_selection import GridSearchCV\n",
    "import numpy as np\n",
    "import matplotlib.pyplot as plt\n",
    "import pandas as pd\n",
    "from sklearn.feature_selection import SelectFromModel\n",
    "from sklearn.model_selection import cross_val_score\n",
    "from sklearn.model_selection import train_test_split"
   ]
  },
  {
   "cell_type": "code",
   "execution_count": 6,
   "id": "4819f243",
   "metadata": {},
   "outputs": [],
   "source": [
    "# data preprocessing for H, K\n",
    "data = pd.read_csv('letter-recognition.csv',header=None) \n",
    "# pair H and K\n",
    "data_H = data[data[0] == 'H']\n",
    "data_K = data[data[0] == 'K']\n",
    "data1 = pd.concat([data_H, data_K], axis=0)\n",
    "data1.loc[data1[0] == 'H', 0] = 0\n",
    "data1.loc[data1[0] == 'K', 0] = 1 \n",
    "\n",
    "\n",
    "X_hk = data1[data1.columns[1:]]\n",
    "X_hk.reset_index(drop=True, inplace=True)\n",
    "y_hk = data1[0]\n",
    "y_hk.reset_index(drop=True, inplace=True)\n",
    "y_hk=y_hk.astype('int')\n",
    "\n",
    "X_train_hk,X_test_hk, y_train_hk, y_test_hk = train_test_split(X_hk,y_hk,test_size=0.1, random_state=90)"
   ]
  },
  {
   "cell_type": "code",
   "execution_count": 7,
   "id": "1ae7f730",
   "metadata": {},
   "outputs": [
    {
     "name": "stdout",
     "output_type": "stream",
     "text": [
      "max score：0.969811320754717 kernel for max score：3\n"
     ]
    },
    {
     "data": {
      "image/png": "[encoded data removed]",
      "text/plain": [
       "<Figure size 480x320 with 1 Axes>"
      ]
     },
     "metadata": {
      "needs_background": "light"
     },
     "output_type": "display_data"
    },
    {
     "name": "stdout",
     "output_type": "stream",
     "text": [
      "0.8317241379310346\n"
     ]
    }
   ],
   "source": [
    "# Model fitting for H,K classification \n",
    "from sklearn.pipeline import make_pipeline\n",
    "from sklearn.preprocessing import StandardScaler\n",
    "from sklearn.svm import SVC\n",
    "\n",
    "test = []\n",
    "for i in ['linear', 'poly', 'rbf', 'sigmoid']:\n",
    "    clf = make_pipeline(StandardScaler(), SVC(gamma='auto', kernel = i))\n",
    "    clf.fit(X_train_hk,y_train_hk)\n",
    "    score = cross_val_score(clf, X_train_hk, y_train_hk, cv=5).mean()\n",
    "    test.append(score);\n",
    "score_max = max(test)\n",
    "print('max score：{}'.format(score_max),\n",
    "      'kernel for max score：{}'.format(test.index(score_max) + 1))\n",
    "plt.figure(dpi=80)\n",
    "plt.plot(range(1,5),test,'-r')\n",
    "plt.show();\n",
    "score = cross_val_score(clf, X_test_hk, y_test_hk, cv=5).mean()\n",
    "print(score)  "
   ]
  },
  {
   "cell_type": "code",
   "execution_count": 13,
   "id": "274fc4b8",
   "metadata": {},
   "outputs": [
    {
     "ename": "NameError",
     "evalue": "name 'X_my' is not defined",
     "output_type": "error",
     "traceback": [
      "\u001b[0;31m---------------------------------------------------------------------------\u001b[0m",
      "\u001b[0;31mNameError\u001b[0m                                 Traceback (most recent call last)",
      "\u001b[1;32m/Users/lanjunzheng/Documents/GitHub/514-project2/SVM.ipynb Cell 5\u001b[0m in \u001b[0;36m<cell line: 14>\u001b[0;34m()\u001b[0m\n\u001b[1;32m      <a href='vscode-notebook-cell:/Users/lanjunzheng/Documents/GitHub/514-project2/SVM.ipynb#X23sZmlsZQ%3D%3D?line=7'>8</a>\u001b[0m \u001b[39mfrom\u001b[39;00m \u001b[39msklearn\u001b[39;00m\u001b[39m.\u001b[39;00m\u001b[39msvm\u001b[39;00m \u001b[39mimport\u001b[39;00m SVC\n\u001b[1;32m      <a href='vscode-notebook-cell:/Users/lanjunzheng/Documents/GitHub/514-project2/SVM.ipynb#X23sZmlsZQ%3D%3D?line=8'>9</a>\u001b[0m clf \u001b[39m=\u001b[39m tree\u001b[39m.\u001b[39mDecisionTreeClassifier(criterion\u001b[39m=\u001b[39m\u001b[39m\"\u001b[39m\u001b[39mentropy\u001b[39m\u001b[39m\"\u001b[39m\n\u001b[1;32m     <a href='vscode-notebook-cell:/Users/lanjunzheng/Documents/GitHub/514-project2/SVM.ipynb#X23sZmlsZQ%3D%3D?line=9'>10</a>\u001b[0m                                       ,random_state\u001b[39m=\u001b[39m\u001b[39m90\u001b[39m\n\u001b[1;32m     <a href='vscode-notebook-cell:/Users/lanjunzheng/Documents/GitHub/514-project2/SVM.ipynb#X23sZmlsZQ%3D%3D?line=10'>11</a>\u001b[0m                                       ,splitter\u001b[39m=\u001b[39m\u001b[39m\"\u001b[39m\u001b[39mrandom\u001b[39m\u001b[39m\"\u001b[39m\n\u001b[1;32m     <a href='vscode-notebook-cell:/Users/lanjunzheng/Documents/GitHub/514-project2/SVM.ipynb#X23sZmlsZQ%3D%3D?line=11'>12</a>\u001b[0m                                      )\n\u001b[0;32m---> <a href='vscode-notebook-cell:/Users/lanjunzheng/Documents/GitHub/514-project2/SVM.ipynb#X23sZmlsZQ%3D%3D?line=13'>14</a>\u001b[0m X_embedded_my \u001b[39m=\u001b[39m SelectFromModel(clf, threshold \u001b[39m=\u001b[39m \u001b[39m-\u001b[39mnp\u001b[39m.\u001b[39minf, max_features \u001b[39m=\u001b[39m \u001b[39m4\u001b[39m)\u001b[39m.\u001b[39mfit_transform(X_my, y_my)\n\u001b[1;32m     <a href='vscode-notebook-cell:/Users/lanjunzheng/Documents/GitHub/514-project2/SVM.ipynb#X23sZmlsZQ%3D%3D?line=14'>15</a>\u001b[0m X_embedded_train_my,X_embedded_test_my, y_embedded_train_my, y_embedded_test_my \u001b[39m=\u001b[39m train_test_split(X_embedded_my,y_my,test_size\u001b[39m=\u001b[39m\u001b[39m0.1\u001b[39m,\n\u001b[1;32m     <a href='vscode-notebook-cell:/Users/lanjunzheng/Documents/GitHub/514-project2/SVM.ipynb#X23sZmlsZQ%3D%3D?line=15'>16</a>\u001b[0m                                                                                                    random_state\u001b[39m=\u001b[39m\u001b[39m90\u001b[39m)\n\u001b[1;32m     <a href='vscode-notebook-cell:/Users/lanjunzheng/Documents/GitHub/514-project2/SVM.ipynb#X23sZmlsZQ%3D%3D?line=16'>17</a>\u001b[0m test \u001b[39m=\u001b[39m []\n",
      "\u001b[0;31mNameError\u001b[0m: name 'X_my' is not defined"
     ]
    }
   ],
   "source": [
    "# Model fitting for H,K classification with Filter Modes\n",
    "import pandas as pd\n",
    "from sklearn.feature_selection import SelectFromModel\n",
    "from sklearn.pipeline import make_pipeline\n",
    "from sklearn.model_selection import cross_val_score\n",
    "from sklearn.svm import LinearSVC\n",
    "from sklearn.preprocessing import StandardScaler\n",
    "from sklearn.svm import SVC\n",
    "clf = tree.DecisionTreeClassifier(criterion=\"entropy\"\n",
    "                                      ,random_state=90\n",
    "                                      ,splitter=\"random\"\n",
    "                                     )\n",
    "\n",
    "X_embedded_my = SelectFromModel(clf, threshold = -np.inf, max_features = 4).fit_transform(X_hk, y_hk)\n",
    "X_embedded_train_hk,X_embedded_test_hk, y_embedded_train_hk, y_embedded_test_hk = train_test_split(X_embedded_hk,y_hk,test_size=0.1,\n",
    "                                                                                                   random_state=90)\n",
    "test = []\n",
    "for i in ['linear', 'poly', 'rbf', 'sigmoid']:\n",
    "    clf = make_pipeline(StandardScaler(), SVC(gamma='auto', kernel = i))\n",
    "    clf.fit(X_train_hk,y_train_hk)\n",
    "    score = cross_val_score(clf, X_train_hk, y_train_hk, cv=5).mean()\n",
    "    test.append(score);\n",
    "score_max = max(test)\n",
    "print('max score：{}'.format(score_max),\n",
    "      'kernel for max score：{}'.format(test.index(score_max) + 1))\n",
    "plt.figure(dpi=80)\n",
    "plt.plot(range(1,5),test,'-r')\n",
    "plt.show();\n",
    "score = cross_val_score(clf, X_test_hk, y_test_hk, cv=5).mean()\n",
    "print(score)  "
   ]
  },
  {
   "cell_type": "code",
   "execution_count": 8,
   "id": "8e47c614",
   "metadata": {},
   "outputs": [],
   "source": [
    "# data preprocessing for M, Y\n",
    "data = pd.read_csv('letter-recognition.csv',header=None) \n",
    "# pair M and Y\n",
    "data_M = data[data[0] == 'M']\n",
    "data_Y = data[data[0] == 'Y']\n",
    "data1 = pd.concat([data_M, data_Y], axis=0)\n",
    "data1.loc[data1[0] == 'M', 0] = 0\n",
    "data1.loc[data1[0] == 'Y', 0] = 1 \n",
    "\n",
    "\n",
    "X_my = data1[data1.columns[1:]]\n",
    "X_my.reset_index(drop=True, inplace=True)\n",
    "y_my = data1[0]\n",
    "y_my.reset_index(drop=True, inplace=True)\n",
    "y_my=y_my.astype('int')\n",
    "\n",
    "X_train_my,X_test_my, y_train_my, y_test_my = train_test_split(X_my,y_my,test_size=0.1, random_state=90)"
   ]
  },
  {
   "cell_type": "code",
   "execution_count": 9,
   "id": "63078a77",
   "metadata": {},
   "outputs": [
    {
     "name": "stdout",
     "output_type": "stream",
     "text": [
      "max score：0.9852112676056338 number of subtree for max score：8\n"
     ]
    },
    {
     "data": {
      "image/png": "[encoded data removed]",
      "text/plain": [
       "<Figure size 480x320 with 1 Axes>"
      ]
     },
     "metadata": {
      "needs_background": "light"
     },
     "output_type": "display_data"
    },
    {
     "name": "stdout",
     "output_type": "stream",
     "text": [
      "0.9556451612903226\n"
     ]
    }
   ],
   "source": [
    "# Model fitting for M,Y classification\n",
    "test = []\n",
    "for i in range(20):\n",
    "    clf = tree.DecisionTreeClassifier(criterion=\"entropy\"\n",
    "                                      ,random_state=90\n",
    "                                      ,splitter=\"random\"\n",
    "                                      ,max_depth=i+1\n",
    "                                     )\n",
    "    clf.fit(X_train_my,y_train_my)\n",
    "    score = cross_val_score(clf, X_train_my, y_train_my, cv=5).mean()\n",
    "    test.append(score);\n",
    "score_max = max(test)\n",
    "print('max score：{}'.format(score_max),\n",
    "      'number of subtree for max score：{}'.format(test.index(score_max) + 1))\n",
    "plt.figure(dpi=80)\n",
    "plt.plot(range(1,21),test,'-r')\n",
    "plt.show();\n",
    "score = cross_val_score(clf, X_test_my, y_test_my, cv=5).mean()\n",
    "print(score) "
   ]
  },
  {
   "cell_type": "code",
   "execution_count": 10,
   "id": "41a06ffa",
   "metadata": {},
   "outputs": [
    {
     "name": "stdout",
     "output_type": "stream",
     "text": [
      "max score：0.9845070422535211 number of subtree for max score：8\n"
     ]
    },
    {
     "data": {
      "image/png": "[encoded data removed]",
      "text/plain": [
       "<Figure size 480x320 with 1 Axes>"
      ]
     },
     "metadata": {
      "needs_background": "light"
     },
     "output_type": "display_data"
    },
    {
     "name": "stdout",
     "output_type": "stream",
     "text": [
      "0.942741935483871\n"
     ]
    }
   ],
   "source": [
    "# Model fitting for M,Y classification with embedded Methods\n",
    "import pandas as pd\n",
    "from sklearn.feature_selection import SelectFromModel\n",
    "from sklearn.ensemble import RandomForestClassifier as RFC\n",
    "from sklearn.model_selection import cross_val_score\n",
    "\n",
    "clf = tree.DecisionTreeClassifier(criterion=\"entropy\"\n",
    "                                      ,random_state=90\n",
    "                                      ,splitter=\"random\"\n",
    "                                     )\n",
    "\n",
    "X_embedded_my = SelectFromModel(clf, threshold = -np.inf, max_features = 4).fit_transform(X_my, y_my)\n",
    "X_embedded_train_my,X_embedded_test_my, y_embedded_train_my, y_embedded_test_my = train_test_split(X_embedded_my,y_my,test_size=0.1,\n",
    "                                                                                                   random_state=90)\n",
    "test = []\n",
    "for i in range(20):\n",
    "    clf = tree.DecisionTreeClassifier(criterion=\"entropy\"\n",
    "                                      ,random_state=90\n",
    "                                      ,splitter=\"random\"\n",
    "                                      ,max_depth=i+1\n",
    "                                     )\n",
    "    clf.fit(X_embedded_train_my,y_embedded_train_my)\n",
    "    score = cross_val_score(clf, X_embedded_train_my, y_embedded_train_my, cv=5).mean()\n",
    "    test.append(score);\n",
    "score_max = max(test)\n",
    "print('max score：{}'.format(score_max),\n",
    "      'number of subtree for max score：{}'.format(test.index(score_max) + 1))\n",
    "plt.figure(dpi=80)\n",
    "plt.plot(range(1,21),test,'-r')\n",
    "plt.show();\n",
    "score = cross_val_score(clf, X_embedded_test_my, y_embedded_test_my, cv=5).mean()\n",
    "print(score)  "
   ]
  },
  {
   "cell_type": "code",
   "execution_count": 11,
   "id": "8f3df94f",
   "metadata": {},
   "outputs": [],
   "source": [
    "# data preprocessing for E, F\n",
    "data = pd.read_csv('letter-recognition.csv',header=None) \n",
    "# pair E and F\n",
    "data_E = data[data[0] == 'E']\n",
    "data_F = data[data[0] == 'F']\n",
    "data1 = pd.concat([data_E, data_F], axis=0)\n",
    "data1.loc[data1[0] == 'E', 0] = 0\n",
    "data1.loc[data1[0] == 'F', 0] = 1 \n",
    "\n",
    "X_ef = data1[data1.columns[1:]]\n",
    "X_ef.reset_index(drop=True, inplace=True)\n",
    "y_ef = data1[0]\n",
    "y_ef.reset_index(drop=True, inplace=True)\n",
    "y_ef=y_ef.astype('int')\n",
    "\n",
    "X_train_ef,X_test_ef, y_train_ef, y_test_ef = train_test_split(X_ef,y_ef,test_size=0.1, random_state=90)"
   ]
  },
  {
   "cell_type": "code",
   "execution_count": 12,
   "id": "54b1b01a",
   "metadata": {},
   "outputs": [
    {
     "name": "stdout",
     "output_type": "stream",
     "text": [
      "max score：0.986307560449835 number of subtree for max score：9\n"
     ]
    },
    {
     "data": {
      "image/png": "[encoded data removed]",
      "text/plain": [
       "<Figure size 480x320 with 1 Axes>"
      ]
     },
     "metadata": {
      "needs_background": "light"
     },
     "output_type": "display_data"
    },
    {
     "name": "stdout",
     "output_type": "stream",
     "text": [
      "0.896774193548387\n"
     ]
    }
   ],
   "source": [
    "# Model fitting for E,F classification\n",
    "test = []\n",
    "for i in range(20):\n",
    "    clf = tree.DecisionTreeClassifier(criterion=\"entropy\"\n",
    "                                      ,random_state=90\n",
    "                                      ,splitter=\"random\"\n",
    "                                      ,max_depth=i+1\n",
    "                                     )\n",
    "    clf.fit(X_train_ef,y_train_ef)\n",
    "    score = cross_val_score(clf, X_train_ef, y_train_ef, cv=5).mean()\n",
    "    test.append(score);\n",
    "score_max = max(test)\n",
    "print('max score：{}'.format(score_max),\n",
    "      'number of subtree for max score：{}'.format(test.index(score_max) + 1))\n",
    "plt.figure(dpi=80)\n",
    "plt.plot(range(1,21),test,'-r')\n",
    "plt.show();\n",
    "score = cross_val_score(clf, X_test_ef, y_test_ef, cv=5).mean()\n",
    "print(score) "
   ]
  },
  {
   "cell_type": "code",
   "execution_count": 13,
   "id": "4621747f",
   "metadata": {},
   "outputs": [
    {
     "name": "stdout",
     "output_type": "stream",
     "text": [
      "max score：0.9776718697244371 number of subtree for max score：10\n"
     ]
    },
    {
     "data": {
      "image/png": "[encoded data removed]",
      "text/plain": [
       "<Figure size 480x320 with 1 Axes>"
      ]
     },
     "metadata": {
      "needs_background": "light"
     },
     "output_type": "display_data"
    },
    {
     "name": "stdout",
     "output_type": "stream",
     "text": [
      "0.935483870967742\n"
     ]
    }
   ],
   "source": [
    "# Model fitting for E,F classification with embedded Methods\n",
    "import pandas as pd\n",
    "from sklearn.feature_selection import SelectFromModel\n",
    "from sklearn.ensemble import RandomForestClassifier as RFC\n",
    "from sklearn.model_selection import cross_val_score\n",
    "\n",
    "clf = tree.DecisionTreeClassifier(criterion=\"entropy\"\n",
    "                                      ,random_state=90\n",
    "                                      ,splitter=\"random\"\n",
    "                                     )\n",
    "\n",
    "X_embedded_ef = SelectFromModel(clf, threshold = -np.inf, max_features = 4).fit_transform(X_ef, y_ef)\n",
    "X_embedded_train_ef,X_embedded_test_ef, y_embedded_train_ef, y_embedded_test_ef = train_test_split(X_embedded_ef,y_ef,test_size=0.1,\n",
    "                                                                                                   random_state=90)\n",
    "test = []\n",
    "for i in range(20):\n",
    "    clf = tree.DecisionTreeClassifier(criterion=\"entropy\"\n",
    "                                      ,random_state=90\n",
    "                                      ,splitter=\"random\"\n",
    "                                      ,max_depth=i+1\n",
    "                                     )\n",
    "    clf.fit(X_embedded_train_ef,y_embedded_train_ef)\n",
    "    score = cross_val_score(clf, X_embedded_train_ef, y_embedded_train_ef, cv=5).mean()\n",
    "    test.append(score);\n",
    "score_max = max(test)\n",
    "print('max score：{}'.format(score_max),\n",
    "      'number of subtree for max score：{}'.format(test.index(score_max) + 1))\n",
    "plt.figure(dpi=80)\n",
    "plt.plot(range(1,21),test,'-r')\n",
    "plt.show();\n",
    "score = cross_val_score(clf, X_embedded_test_ef, y_embedded_test_ef, cv=5).mean()\n",
    "print(score)  "
   ]
  },
  {
   "cell_type": "code",
   "execution_count": 14,
   "id": "a943d201",
   "metadata": {},
   "outputs": [],
   "source": [
    "#   data preprocessing for mulit\n",
    "data = pd.read_csv('letter-recognition.csv',header=None) \n",
    "data\n",
    "for i in range(20000):\n",
    "    data.iloc[i, 0] = ord(data.iloc[i, 0]) - ord('A');\n",
    "    \n",
    "X_multi = data[data.columns[1:]]\n",
    "X_multi.reset_index(drop=True, inplace=True)\n",
    "y_multi = data[0]\n",
    "y_multi.reset_index(drop=True, inplace=True)\n",
    "y_multi =y_multi.astype('int')\n",
    "\n",
    "X_train_multi,X_test_multi, y_train_multi, y_test_multi = train_test_split(X_multi,y_multi,test_size=0.1, random_state=90)"
   ]
  },
  {
   "cell_type": "code",
   "execution_count": 16,
   "id": "d510cf06",
   "metadata": {},
   "outputs": [
    {
     "name": "stdout",
     "output_type": "stream",
     "text": [
      "max score：0.8563888888888889 number of subtree for max score：23\n"
     ]
    },
    {
     "data": {
      "image/png": "[encoded data removed]",
      "text/plain": [
       "<Figure size 480x320 with 1 Axes>"
      ]
     },
     "metadata": {
      "needs_background": "light"
     },
     "output_type": "display_data"
    },
    {
     "name": "stdout",
     "output_type": "stream",
     "text": [
      "0.659\n"
     ]
    }
   ],
   "source": [
    "# Model fitting for mulit classification\n",
    "test = []\n",
    "for i in range(30):\n",
    "    clf = tree.DecisionTreeClassifier(criterion=\"entropy\"\n",
    "                                      ,random_state=90\n",
    "                                      ,splitter=\"random\"\n",
    "                                      ,max_depth=i+1\n",
    "                                     )\n",
    "    clf.fit(X_train_multi,y_train_multi)\n",
    "    score = cross_val_score(clf, X_train_multi, y_train_multi, cv=5).mean()\n",
    "    test.append(score);\n",
    "score_max = max(test)\n",
    "print('max score：{}'.format(score_max),\n",
    "      'number of subtree for max score：{}'.format(test.index(score_max) + 1))\n",
    "plt.figure(dpi=80)\n",
    "plt.plot(range(1,31),test,'-r')\n",
    "plt.show();\n",
    "score = cross_val_score(clf, X_test_multi, y_test_multi, cv=5).mean()\n",
    "print(score) "
   ]
  },
  {
   "cell_type": "code",
   "execution_count": 17,
   "id": "1cce511e",
   "metadata": {},
   "outputs": [
    {
     "name": "stdout",
     "output_type": "stream",
     "text": [
      "max score：0.6827777777777777 number of subtree for max score：17\n"
     ]
    },
    {
     "data": {
      "image/png": "[encoded data removed]",
      "text/plain": [
       "<Figure size 480x320 with 1 Axes>"
      ]
     },
     "metadata": {
      "needs_background": "light"
     },
     "output_type": "display_data"
    },
    {
     "name": "stdout",
     "output_type": "stream",
     "text": [
      "0.5855\n"
     ]
    }
   ],
   "source": [
    "# Model fitting for mulit classification with embedded Methods\n",
    "import pandas as pd\n",
    "from sklearn.feature_selection import SelectFromModel\n",
    "from sklearn.ensemble import RandomForestClassifier as RFC\n",
    "from sklearn.model_selection import cross_val_score\n",
    "\n",
    "clf = tree.DecisionTreeClassifier(criterion=\"entropy\"\n",
    "                                      ,random_state=90\n",
    "                                      ,splitter=\"random\"\n",
    "                                     )\n",
    "\n",
    "X_embedded_multi = SelectFromModel(clf, threshold = -np.inf, max_features = 4).fit_transform(X_multi, y_multi)\n",
    "X_embedded_train_multi,X_embedded_test_multi, y_embedded_train_multi, y_embedded_test_multi = train_test_split(X_embedded_multi,y_multi,\n",
    "                                                                                                               test_size=0.1,\n",
    "                                                                                                   random_state=90)\n",
    "test = []\n",
    "for i in range(30):\n",
    "    clf = tree.DecisionTreeClassifier(criterion=\"entropy\"\n",
    "                                      ,random_state=90\n",
    "                                      ,splitter=\"random\"\n",
    "                                      ,max_depth=i+1\n",
    "                                     )\n",
    "    clf.fit(X_embedded_train_multi,y_embedded_train_multi)\n",
    "    score = cross_val_score(clf, X_embedded_train_multi, y_embedded_train_multi, cv=5).mean()\n",
    "    test.append(score);\n",
    "score_max = max(test)\n",
    "print('max score：{}'.format(score_max),\n",
    "      'number of subtree for max score：{}'.format(test.index(score_max) + 1))\n",
    "plt.figure(dpi=80)\n",
    "plt.plot(range(1,31),test,'-r')\n",
    "plt.show();\n",
    "score = cross_val_score(clf, X_embedded_test_multi, y_embedded_test_multi, cv=5).mean()\n",
    "print(score)  "
   ]
  }
 ],
 "metadata": {
  "kernelspec": {
   "display_name": "Python 3.9.6 64-bit",
   "language": "python",
   "name": "python3"
  },
  "language_info": {
   "codemirror_mode": {
    "name": "ipython",
    "version": 3
   },
   "file_extension": ".py",
   "mimetype": "text/x-python",
   "name": "python",
   "nbconvert_exporter": "python",
   "pygments_lexer": "ipython3",
   "version": "3.9.6"
  },
  "vscode": {
   "interpreter": {
    "hash": "31f2aee4e71d21fbe5cf8b01ff0e069b9275f58929596ceb00d14d90e3e16cd6"
   }
  }
 },
 "nbformat": 4,
 "nbformat_minor": 5
}
