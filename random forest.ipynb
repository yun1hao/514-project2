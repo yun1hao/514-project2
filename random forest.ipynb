{
 "cells": [
  {
   "cell_type": "code",
   "execution_count": 2,
   "id": "ff53a37c",
   "metadata": {},
   "outputs": [
    {
     "data": {
      "text/html": [
       "<div>\n",
       "<style scoped>\n",
       "    .dataframe tbody tr th:only-of-type {\n",
       "        vertical-align: middle;\n",
       "    }\n",
       "\n",
       "    .dataframe tbody tr th {\n",
       "        vertical-align: top;\n",
       "    }\n",
       "\n",
       "    .dataframe thead th {\n",
       "        text-align: right;\n",
       "    }\n",
       "</style>\n",
       "<table border=\"1\" class=\"dataframe\">\n",
       "  <thead>\n",
       "    <tr style=\"text-align: right;\">\n",
       "      <th></th>\n",
       "      <th>0</th>\n",
       "      <th>1</th>\n",
       "      <th>2</th>\n",
       "      <th>3</th>\n",
       "      <th>4</th>\n",
       "      <th>5</th>\n",
       "      <th>6</th>\n",
       "      <th>7</th>\n",
       "      <th>8</th>\n",
       "      <th>9</th>\n",
       "      <th>10</th>\n",
       "      <th>11</th>\n",
       "      <th>12</th>\n",
       "      <th>13</th>\n",
       "      <th>14</th>\n",
       "      <th>15</th>\n",
       "      <th>16</th>\n",
       "    </tr>\n",
       "  </thead>\n",
       "  <tbody>\n",
       "    <tr>\n",
       "      <th>0</th>\n",
       "      <td>T</td>\n",
       "      <td>2</td>\n",
       "      <td>8</td>\n",
       "      <td>3</td>\n",
       "      <td>5</td>\n",
       "      <td>1</td>\n",
       "      <td>8</td>\n",
       "      <td>13</td>\n",
       "      <td>0</td>\n",
       "      <td>6</td>\n",
       "      <td>6</td>\n",
       "      <td>10</td>\n",
       "      <td>8</td>\n",
       "      <td>0</td>\n",
       "      <td>8</td>\n",
       "      <td>0</td>\n",
       "      <td>8</td>\n",
       "    </tr>\n",
       "    <tr>\n",
       "      <th>1</th>\n",
       "      <td>I</td>\n",
       "      <td>5</td>\n",
       "      <td>12</td>\n",
       "      <td>3</td>\n",
       "      <td>7</td>\n",
       "      <td>2</td>\n",
       "      <td>10</td>\n",
       "      <td>5</td>\n",
       "      <td>5</td>\n",
       "      <td>4</td>\n",
       "      <td>13</td>\n",
       "      <td>3</td>\n",
       "      <td>9</td>\n",
       "      <td>2</td>\n",
       "      <td>8</td>\n",
       "      <td>4</td>\n",
       "      <td>10</td>\n",
       "    </tr>\n",
       "    <tr>\n",
       "      <th>2</th>\n",
       "      <td>D</td>\n",
       "      <td>4</td>\n",
       "      <td>11</td>\n",
       "      <td>6</td>\n",
       "      <td>8</td>\n",
       "      <td>6</td>\n",
       "      <td>10</td>\n",
       "      <td>6</td>\n",
       "      <td>2</td>\n",
       "      <td>6</td>\n",
       "      <td>10</td>\n",
       "      <td>3</td>\n",
       "      <td>7</td>\n",
       "      <td>3</td>\n",
       "      <td>7</td>\n",
       "      <td>3</td>\n",
       "      <td>9</td>\n",
       "    </tr>\n",
       "    <tr>\n",
       "      <th>3</th>\n",
       "      <td>N</td>\n",
       "      <td>7</td>\n",
       "      <td>11</td>\n",
       "      <td>6</td>\n",
       "      <td>6</td>\n",
       "      <td>3</td>\n",
       "      <td>5</td>\n",
       "      <td>9</td>\n",
       "      <td>4</td>\n",
       "      <td>6</td>\n",
       "      <td>4</td>\n",
       "      <td>4</td>\n",
       "      <td>10</td>\n",
       "      <td>6</td>\n",
       "      <td>10</td>\n",
       "      <td>2</td>\n",
       "      <td>8</td>\n",
       "    </tr>\n",
       "    <tr>\n",
       "      <th>4</th>\n",
       "      <td>G</td>\n",
       "      <td>2</td>\n",
       "      <td>1</td>\n",
       "      <td>3</td>\n",
       "      <td>1</td>\n",
       "      <td>1</td>\n",
       "      <td>8</td>\n",
       "      <td>6</td>\n",
       "      <td>6</td>\n",
       "      <td>6</td>\n",
       "      <td>6</td>\n",
       "      <td>5</td>\n",
       "      <td>9</td>\n",
       "      <td>1</td>\n",
       "      <td>7</td>\n",
       "      <td>5</td>\n",
       "      <td>10</td>\n",
       "    </tr>\n",
       "  </tbody>\n",
       "</table>\n",
       "</div>"
      ],
      "text/plain": [
       "  0   1   2   3   4   5   6   7   8   9   10  11  12  13  14  15  16\n",
       "0  T   2   8   3   5   1   8  13   0   6   6  10   8   0   8   0   8\n",
       "1  I   5  12   3   7   2  10   5   5   4  13   3   9   2   8   4  10\n",
       "2  D   4  11   6   8   6  10   6   2   6  10   3   7   3   7   3   9\n",
       "3  N   7  11   6   6   3   5   9   4   6   4   4  10   6  10   2   8\n",
       "4  G   2   1   3   1   1   8   6   6   6   6   5   9   1   7   5  10"
      ]
     },
     "execution_count": 2,
     "metadata": {},
     "output_type": "execute_result"
    }
   ],
   "source": [
    "import pandas as pd\n",
    "import numpy as np\n",
    "import seaborn as sns\n",
    "import matplotlib.pyplot as plt\n",
    "\n",
    "# import the trainingset\n",
    "data = pd.read_csv('letter-recognition.csv',header=None)  \n",
    "data.head(5)\n"
   ]
  },
  {
   "cell_type": "code",
   "execution_count": 3,
   "id": "cf682259",
   "metadata": {},
   "outputs": [],
   "source": [
    "from sklearn.datasets import load_breast_cancer\n",
    "from sklearn.ensemble import RandomForestClassifier\n",
    "from sklearn.model_selection import GridSearchCV\n",
    "import numpy as np\n",
    "import matplotlib.pyplot as plt\n",
    "import pandas as pd\n",
    "from sklearn.feature_selection import SelectFromModel\n",
    "from sklearn.ensemble import RandomForestClassifier \n",
    "from sklearn.model_selection import cross_val_score\n",
    "from sklearn.model_selection import train_test_split"
   ]
  },
  {
   "cell_type": "code",
   "execution_count": 4,
   "id": "8a36a329",
   "metadata": {},
   "outputs": [],
   "source": [
    "# data preprocessing for H, K\n",
    "data = pd.read_csv('letter-recognition.csv',header=None) \n",
    "# pair H and K\n",
    "data_H = data[data[0] == 'H']\n",
    "data_K = data[data[0] == 'K']\n",
    "data1 = pd.concat([data_H, data_K], axis=0)\n",
    "data1.loc[data1[0] == 'H', 0] = 0\n",
    "data1.loc[data1[0] == 'K', 0] = 1 \n",
    "\n",
    "\n",
    "X_hk = data1[data1.columns[1:]]\n",
    "X_hk.reset_index(drop=True, inplace=True)\n",
    "y_hk = data1[0]\n",
    "y_hk.reset_index(drop=True, inplace=True)\n",
    "y_hk=y_hk.astype('int')\n",
    "\n",
    "X_train_hk,X_test_hk, y_train_hk, y_test_hk = train_test_split(X_hk,y_hk,test_size=0.1, random_state=90)"
   ]
  },
  {
   "cell_type": "code",
   "execution_count": 5,
   "id": "d8150607",
   "metadata": {},
   "outputs": [
    {
     "name": "stdout",
     "output_type": "stream",
     "text": [
      "max score：0.9735849056603774 number of subtree for max score：251\n"
     ]
    },
    {
     "data": {
      "image/png": "[encoded data removed]",
      "text/plain": [
       "<Figure size 432x288 with 1 Axes>"
      ]
     },
     "metadata": {
      "needs_background": "light"
     },
     "output_type": "display_data"
    },
    {
     "name": "stdout",
     "output_type": "stream",
     "text": [
      "{'max_depth': 14} 0.9750943396226415\n",
      "0.9195402298850576\n"
     ]
    }
   ],
   "source": [
    "# Model fitting for H,K classification \n",
    "score_lt = []\n",
    "\n",
    "for i in range(0,300,10):\n",
    "    rfc = RandomForestClassifier(n_estimators=i+1\n",
    "                                ,random_state=90)\n",
    "    score = cross_val_score(rfc, X_train_hk, y_train_hk, cv=5).mean()\n",
    "    score_lt.append(score)\n",
    "score_max = max(score_lt)\n",
    "print('max score：{}'.format(score_max),\n",
    "      'number of subtree for max score：{}'.format(score_lt.index(score_max)*10+1))\n",
    "\n",
    "x = np.arange(1,301,10)\n",
    "plt.subplot(111)\n",
    "plt.plot(x, score_lt, 'r-')\n",
    "plt.show()\n",
    "\n",
    "rfc = RandomForestClassifier(n_estimators=score_lt.index(score_max)*10+1, random_state=90)\n",
    "\n",
    "# Adjustment with grid search for max_depth\n",
    "param_grid = {'max_depth':np.arange(1,20)}\n",
    "GS = GridSearchCV(rfc, param_grid, cv=5)\n",
    "GS.fit(X_train_hk, y_train_hk)\n",
    "\n",
    "best_param = GS.best_params_\n",
    "best_score = GS.best_score_\n",
    "print(best_param, best_score)\n",
    "\n",
    "newRFC = RandomForestClassifier(n_estimators=score_lt.index(score_max)*10+1, random_state=90, max_depth=best_param['max_depth'])\n",
    "\n",
    "\n",
    "score = cross_val_score(newRFC, X_test_hk, y_test_hk, cv=5).mean()\n",
    "print(score)  "
   ]
  },
  {
   "cell_type": "code",
   "execution_count": 54,
   "id": "7040b1db",
   "metadata": {},
   "outputs": [
    {
     "name": "stdout",
     "output_type": "stream",
     "text": [
      "max score：0.9018867924528303 number of subtree for max_score：181\n"
     ]
    },
    {
     "data": {
      "image/png": "[encoded data removed]",
      "text/plain": [
       "<Figure size 432x288 with 1 Axes>"
      ]
     },
     "metadata": {
      "needs_background": "light"
     },
     "output_type": "display_data"
    },
    {
     "name": "stdout",
     "output_type": "stream",
     "text": [
      "{'max_depth': 6} 0.909433962264151\n",
      "0.8852873563218392\n"
     ]
    }
   ],
   "source": [
    "# Model fitting for H,K classification using Embedded Methods\n",
    "import pandas as pd\n",
    "from sklearn.feature_selection import SelectFromModel\n",
    "from sklearn.ensemble import RandomForestClassifier as RFC\n",
    "from sklearn.model_selection import cross_val_score\n",
    "\n",
    "RFC_ = RFC(random_state=90)\n",
    "\n",
    "X_embedded_hk = SelectFromModel(RFC_, threshold = -np.inf, max_features = 4).fit_transform(X_hk, y_hk)\n",
    "X_embedded_train_hk,X_embedded_test_hk, y_embedded_train_hk, y_embedded_test_hk = train_test_split(X_embedded_hk,y_hk,test_size=0.1,\n",
    "                                                                                                   random_state=90)\n",
    "\n",
    "\n",
    "score_lt = []\n",
    "\n",
    "\n",
    "for i in range(0,300,10):\n",
    "    rfc = RandomForestClassifier(n_estimators=i+1\n",
    "                                ,random_state=90)\n",
    "    score = cross_val_score(rfc, X_embedded_train_hk, y_embedded_train_hk, cv=5).mean()\n",
    "    score_lt.append(score)\n",
    "score_max = max(score_lt)\n",
    "print('max score：{}'.format(score_max),\n",
    "      'number of subtree for max_score：{}'.format(score_lt.index(score_max)*10+1))\n",
    "\n",
    "\n",
    "x = np.arange(1,301,10)\n",
    "plt.subplot(111)\n",
    "plt.plot(x, score_lt, 'r-')\n",
    "plt.show()\n",
    "\n",
    "rfc = RandomForestClassifier(n_estimators=score_lt.index(score_max)*10+1, random_state=90)\n",
    "\n",
    "# Adjustment with grid search for max_depth\n",
    "param_grid = {'max_depth':np.arange(1,20)}\n",
    "GS = GridSearchCV(rfc, param_grid, cv=5)\n",
    "GS.fit(X_embedded_train_hk, y_embedded_train_hk)\n",
    "\n",
    "best_param = GS.best_params_\n",
    "best_score = GS.best_score_\n",
    "print(best_param, best_score)\n",
    "\n",
    "newRFC = RandomForestClassifier(n_estimators=score_lt.index(score_max)*10+1, random_state=90, max_depth=best_param['max_depth'])\n",
    "\n",
    "\n",
    "score = cross_val_score(newRFC, X_embedded_test_hk, y_embedded_test_hk, cv=5).mean()\n",
    "print(score)  \n"
   ]
  },
  {
   "cell_type": "code",
   "execution_count": 56,
   "id": "16aec0cb",
   "metadata": {},
   "outputs": [],
   "source": [
    "# data preprocessing for M, Y\n",
    "data = pd.read_csv('letter-recognition.csv',header=None) \n",
    "# pair M and Y\n",
    "data_M = data[data[0] == 'M']\n",
    "data_Y = data[data[0] == 'Y']\n",
    "data1 = pd.concat([data_M, data_Y], axis=0)\n",
    "data1.loc[data1[0] == 'M', 0] = 0\n",
    "data1.loc[data1[0] == 'Y', 0] = 1 \n",
    "\n",
    "\n",
    "X_my = data1[data1.columns[1:]]\n",
    "X_my.reset_index(drop=True, inplace=True)\n",
    "y_my = data1[0]\n",
    "y_my.reset_index(drop=True, inplace=True)\n",
    "y_my=y_my.astype('int')\n",
    "\n",
    "X_train_my,X_test_my, y_train_my, y_test_my = train_test_split(X_my,y_my,test_size=0.1, random_state=90)"
   ]
  },
  {
   "cell_type": "code",
   "execution_count": 57,
   "id": "85867c6e",
   "metadata": {},
   "outputs": [
    {
     "name": "stdout",
     "output_type": "stream",
     "text": [
      "max score：0.997887323943662 number of subtree for max_score：51\n"
     ]
    },
    {
     "data": {
      "image/png": "[encoded data removed]",
      "text/plain": [
       "<Figure size 432x288 with 1 Axes>"
      ]
     },
     "metadata": {
      "needs_background": "light"
     },
     "output_type": "display_data"
    },
    {
     "name": "stdout",
     "output_type": "stream",
     "text": [
      "{'max_depth': 7} 0.997887323943662\n",
      "0.9747983870967742\n"
     ]
    }
   ],
   "source": [
    "# Model fitting for M,Y classification\n",
    "score_lt = []\n",
    "\n",
    "\n",
    "for i in range(0,300,10):\n",
    "    rfc = RandomForestClassifier(n_estimators=i+1\n",
    "                                ,random_state=90)\n",
    "    score = cross_val_score(rfc, X_train_my, y_train_my, cv=5).mean()\n",
    "    score_lt.append(score)\n",
    "score_max = max(score_lt)\n",
    "print('max score：{}'.format(score_max),\n",
    "      'number of subtree for max_score：{}'.format(score_lt.index(score_max)*10+1))\n",
    "\n",
    "\n",
    "x = np.arange(1,301,10)\n",
    "plt.subplot(111)\n",
    "plt.plot(x, score_lt, 'r-')\n",
    "plt.show()\n",
    "\n",
    "rfc = RandomForestClassifier(n_estimators=score_lt.index(score_max)*10+1, random_state=90)\n",
    "\n",
    "# Adjustment with grid search for max_depth\n",
    "param_grid = {'max_depth':np.arange(1,20)}\n",
    "GS = GridSearchCV(rfc, param_grid, cv=5)\n",
    "GS.fit(X_train_my, y_train_my)\n",
    "\n",
    "best_param = GS.best_params_\n",
    "best_score = GS.best_score_\n",
    "print(best_param, best_score)\n",
    "\n",
    "\n",
    "newRFC = RandomForestClassifier(n_estimators=score_lt.index(score_max)*10+1, random_state=90, max_depth=best_param['max_depth'])\n",
    "\n",
    "\n",
    "score = cross_val_score(newRFC, X_test_my, y_test_my, cv=5).mean()\n",
    "print(score)  "
   ]
  },
  {
   "cell_type": "code",
   "execution_count": 58,
   "id": "3ded752e",
   "metadata": {},
   "outputs": [
    {
     "name": "stdout",
     "output_type": "stream",
     "text": [
      "max score：0.9929577464788732 number of subtree for max_score：111\n"
     ]
    },
    {
     "data": {
      "image/png": "[encoded data removed]",
      "text/plain": [
       "<Figure size 432x288 with 1 Axes>"
      ]
     },
     "metadata": {
      "needs_background": "light"
     },
     "output_type": "display_data"
    },
    {
     "name": "stdout",
     "output_type": "stream",
     "text": [
      "{'max_depth': 9} 0.9929577464788732\n",
      "0.9618951612903226\n"
     ]
    }
   ],
   "source": [
    "# Model fitting for M,Y classification using Embedded Methods\n",
    "import pandas as pd\n",
    "from sklearn.feature_selection import SelectFromModel\n",
    "from sklearn.ensemble import RandomForestClassifier as RFC\n",
    "from sklearn.model_selection import cross_val_score\n",
    "\n",
    "RFC_ = RFC(random_state=90)\n",
    "\n",
    "X_embedded_my = SelectFromModel(RFC_, threshold = -np.inf, max_features = 4).fit_transform(X_my, y_my)\n",
    "X_embedded_train_my,X_embedded_test_my, y_embedded_train_my, y_embedded_test_my = train_test_split(X_embedded_my,y_my,test_size=0.1,\n",
    "                                                                                                   random_state=90)\n",
    "\n",
    "\n",
    "score_lt = []\n",
    "\n",
    "\n",
    "for i in range(0,300,10):\n",
    "    rfc = RandomForestClassifier(n_estimators=i+1\n",
    "                                ,random_state=90)\n",
    "    score = cross_val_score(rfc, X_embedded_train_my, y_embedded_train_my, cv=5).mean()\n",
    "    score_lt.append(score)\n",
    "score_max = max(score_lt)\n",
    "print('max score：{}'.format(score_max),\n",
    "      'number of subtree for max_score：{}'.format(score_lt.index(score_max)*10+1))\n",
    "\n",
    "\n",
    "x = np.arange(1,301,10)\n",
    "plt.subplot(111)\n",
    "plt.plot(x, score_lt, 'r-')\n",
    "plt.show()\n",
    "\n",
    "rfc = RandomForestClassifier(n_estimators=score_lt.index(score_max)*10+1, random_state=90)\n",
    "\n",
    "# Adjustment with grid search for max_depth\n",
    "param_grid = {'max_depth':np.arange(1,20)}\n",
    "GS = GridSearchCV(rfc, param_grid, cv=5)\n",
    "GS.fit(X_embedded_train_my, y_embedded_train_my)\n",
    "\n",
    "best_param = GS.best_params_\n",
    "best_score = GS.best_score_\n",
    "print(best_param, best_score)\n",
    "\n",
    "newRFC = RandomForestClassifier(n_estimators=score_lt.index(score_max)*10+1, random_state=90, max_depth=best_param['max_depth'])\n",
    "\n",
    "\n",
    "score = cross_val_score(newRFC, X_embedded_test_my, y_embedded_test_my, cv=5).mean()\n",
    "print(score)  "
   ]
  },
  {
   "cell_type": "code",
   "execution_count": 59,
   "id": "e9e52724",
   "metadata": {},
   "outputs": [],
   "source": [
    "# data preprocessing for E, F\n",
    "data = pd.read_csv('letter-recognition.csv',header=None) \n",
    "# pair E and F\n",
    "data_E = data[data[0] == 'E']\n",
    "data_F = data[data[0] == 'F']\n",
    "data1 = pd.concat([data_E, data_F], axis=0)\n",
    "data1.loc[data1[0] == 'E', 0] = 0\n",
    "data1.loc[data1[0] == 'F', 0] = 1 \n",
    "\n",
    "X_ef = data1[data1.columns[1:]]\n",
    "X_ef.reset_index(drop=True, inplace=True)\n",
    "y_ef = data1[0]\n",
    "y_ef.reset_index(drop=True, inplace=True)\n",
    "y_ef=y_ef.astype('int')\n",
    "\n",
    "X_train_ef,X_test_ef, y_train_ef, y_test_ef = train_test_split(X_ef,y_ef,test_size=0.1, random_state=90)"
   ]
  },
  {
   "cell_type": "code",
   "execution_count": 60,
   "id": "cf53d6c3",
   "metadata": {},
   "outputs": [
    {
     "name": "stdout",
     "output_type": "stream",
     "text": [
      "max point：0.9956782588369737 subtree number for max point：51\n"
     ]
    },
    {
     "data": {
      "image/png": "[encoded data removed]",
      "text/plain": [
       "<Figure size 432x288 with 1 Axes>"
      ]
     },
     "metadata": {
      "needs_background": "light"
     },
     "output_type": "display_data"
    },
    {
     "name": "stdout",
     "output_type": "stream",
     "text": [
      "{'max_depth': 11} 0.9956782588369737\n",
      "0.967741935483871\n"
     ]
    }
   ],
   "source": [
    "# Model fitting  for E,F classification \n",
    "\n",
    "score_lt = []\n",
    "\n",
    "for i in range(0,300,10):\n",
    "    rfc = RandomForestClassifier(n_estimators=i+1\n",
    "                                ,random_state=90)\n",
    "    score = cross_val_score(rfc, X_train_ef, y_train_ef, cv=5).mean()\n",
    "    score_lt.append(score)\n",
    "score_max = max(score_lt)\n",
    "print('max point：{}'.format(score_max),\n",
    "      'subtree number for max point：{}'.format(score_lt.index(score_max)*10+1))\n",
    "\n",
    "\n",
    "x = np.arange(1,301,10)\n",
    "plt.subplot(111)\n",
    "plt.plot(x, score_lt, 'r-')\n",
    "plt.show()\n",
    "\n",
    "rfc = RandomForestClassifier(n_estimators=score_lt.index(score_max)*10+1, random_state=90)\n",
    "\n",
    "# Adjustment with grid search for max_depth\n",
    "param_grid = {'max_depth':np.arange(1,20)}\n",
    "GS = GridSearchCV(rfc, param_grid, cv=5)\n",
    "GS.fit(X_train_ef, y_train_ef)\n",
    "\n",
    "best_param = GS.best_params_\n",
    "best_score = GS.best_score_\n",
    "print(best_param, best_score)\n",
    "\n",
    "newRFC = RandomForestClassifier(n_estimators=score_lt.index(score_max)*10+1, random_state=90, max_depth= best_param['max_depth'])\n",
    "\n",
    "\n",
    "score = cross_val_score(newRFC, X_test_ef, y_test_ef, cv=5).mean()\n",
    "print(score)  "
   ]
  },
  {
   "cell_type": "code",
   "execution_count": 64,
   "id": "dfa8917e",
   "metadata": {},
   "outputs": [
    {
     "name": "stdout",
     "output_type": "stream",
     "text": [
      "max score：0.979830143105732 number of subtree for max_score：71\n"
     ]
    },
    {
     "data": {
      "image/png": "[encoded data removed]",
      "text/plain": [
       "<Figure size 432x288 with 1 Axes>"
      ]
     },
     "metadata": {
      "needs_background": "light"
     },
     "output_type": "display_data"
    },
    {
     "name": "stdout",
     "output_type": "stream",
     "text": [
      "{'max_depth': 5} 0.9827104381476767\n",
      "0.9548387096774194\n"
     ]
    }
   ],
   "source": [
    "# Model fitting for E,F classification using Embedded Methods\n",
    "import pandas as pd\n",
    "from sklearn.feature_selection import SelectFromModel\n",
    "from sklearn.ensemble import RandomForestClassifier as RFC\n",
    "from sklearn.model_selection import cross_val_score\n",
    "\n",
    "RFC_ = RFC(random_state=90)\n",
    "\n",
    "X_embedded_ef = SelectFromModel(RFC_, threshold = -np.inf, max_features = 4).fit_transform(X_ef, y_ef)\n",
    "X_embedded_train_ef,X_embedded_test_ef, y_embedded_train_ef, y_embedded_test_ef = train_test_split(X_embedded_ef,y_ef,test_size=0.1,\n",
    "                                                                                                   random_state=90)\n",
    "\n",
    "\n",
    "score_lt = []\n",
    "\n",
    "\n",
    "for i in range(0,300,10):\n",
    "    rfc = RandomForestClassifier(n_estimators=i+1\n",
    "                                ,random_state=90)\n",
    "    score = cross_val_score(rfc, X_embedded_train_ef, y_embedded_train_ef, cv=5).mean()\n",
    "    score_lt.append(score)\n",
    "score_max = max(score_lt)\n",
    "print('max score：{}'.format(score_max),\n",
    "      'number of subtree for max_score：{}'.format(score_lt.index(score_max)*10+1))\n",
    "\n",
    "\n",
    "x = np.arange(1,301,10)\n",
    "plt.subplot(111)\n",
    "plt.plot(x, score_lt, 'r-')\n",
    "plt.show()\n",
    "\n",
    "rfc = RandomForestClassifier(n_estimators=score_lt.index(score_max)*10+1, random_state=90)\n",
    "\n",
    "# Adjustment with grid search for max_depth\n",
    "param_grid = {'max_depth':np.arange(1,20)}\n",
    "GS = GridSearchCV(rfc, param_grid, cv=5)\n",
    "GS.fit(X_embedded_train_ef, y_embedded_train_ef)\n",
    "\n",
    "best_param = GS.best_params_\n",
    "best_score = GS.best_score_\n",
    "print(best_param, best_score)\n",
    "\n",
    "newRFC = RandomForestClassifier(n_estimators=score_lt.index(score_max)*10+1, random_state=90, max_depth=best_param['max_depth'])\n",
    "\n",
    "\n",
    "score = cross_val_score(newRFC, X_embedded_test_ef, y_embedded_test_ef, cv=5).mean()\n",
    "print(score)  "
   ]
  },
  {
   "cell_type": "code",
   "execution_count": 65,
   "id": "b018ac72",
   "metadata": {},
   "outputs": [],
   "source": [
    "#   data preprocessing for mulit\n",
    "data = pd.read_csv('letter-recognition.csv',header=None) \n",
    "data\n",
    "for i in range(20000):\n",
    "    data.iloc[i, 0] = ord(data.iloc[i, 0]) - ord('A');\n",
    "    \n",
    "X_multi = data[data.columns[1:]]\n",
    "X_multi.reset_index(drop=True, inplace=True)\n",
    "y_multi = data[0]\n",
    "y_multi.reset_index(drop=True, inplace=True)\n",
    "y_multi =y_multi.astype('int')\n",
    "\n",
    "X_train_multi,X_test_multi, y_train_multi, y_test_multi = train_test_split(X_multi,y_multi,test_size=0.1, random_state=90)"
   ]
  },
  {
   "cell_type": "code",
   "execution_count": 67,
   "id": "fe15eb7f",
   "metadata": {},
   "outputs": [
    {
     "name": "stdout",
     "output_type": "stream",
     "text": [
      "max point：0.9628888888888889 subtree number for max point：261\n"
     ]
    },
    {
     "data": {
      "image/png": "[encoded data removed]",
      "text/plain": [
       "<Figure size 432x288 with 1 Axes>"
      ]
     },
     "metadata": {
      "needs_background": "light"
     },
     "output_type": "display_data"
    },
    {
     "name": "stdout",
     "output_type": "stream",
     "text": [
      "{'max_depth': 24} 0.9630555555555554\n",
      "0.8515\n"
     ]
    }
   ],
   "source": [
    "# Model fitting for mulit-classification \n",
    "\n",
    "score_lt = []\n",
    "\n",
    "\n",
    "for i in range(0,300,10):\n",
    "    rfc = RandomForestClassifier(n_estimators=i+1\n",
    "                                ,random_state=90)\n",
    "    score = cross_val_score(rfc, X_train_multi, y_train_multi, cv=5).mean()\n",
    "    score_lt.append(score)\n",
    "score_max = max(score_lt)\n",
    "print('max point：{}'.format(score_max),\n",
    "      'subtree number for max point：{}'.format(score_lt.index(score_max)*10+1))\n",
    "\n",
    "x = np.arange(1,301,10)\n",
    "plt.subplot(111)\n",
    "plt.plot(x, score_lt, 'r-')\n",
    "plt.show()\n",
    "\n",
    "rfc = RandomForestClassifier(n_estimators=score_lt.index(score_max)*10+1, random_state=90)\n",
    "\n",
    "# Adjustment with grid search for max_depth\n",
    "param_grid = {'max_depth':np.arange(1,40)}\n",
    "GS = GridSearchCV(rfc, param_grid, cv=5)\n",
    "GS.fit(X_train_multi, y_train_multi)\n",
    "\n",
    "best_param = GS.best_params_\n",
    "best_score = GS.best_score_\n",
    "print(best_param, best_score)\n",
    "\n",
    "newRFC = RandomForestClassifier(n_estimators=score_lt.index(score_max)*10+1, random_state=90, max_depth= best_param['max_depth'])\n",
    "\n",
    "\n",
    "score = cross_val_score(newRFC, X_test_multi, y_test_multi, cv=5).mean()\n",
    "print(score)  "
   ]
  },
  {
   "cell_type": "code",
   "execution_count": 68,
   "id": "8ec4d8f7",
   "metadata": {},
   "outputs": [
    {
     "name": "stdout",
     "output_type": "stream",
     "text": [
      "max score：0.703111111111111 number of subtree for max_score：101\n"
     ]
    },
    {
     "data": {
      "image/png": "[encoded data removed]",
      "text/plain": [
       "<Figure size 432x288 with 1 Axes>"
      ]
     },
     "metadata": {
      "needs_background": "light"
     },
     "output_type": "display_data"
    },
    {
     "name": "stdout",
     "output_type": "stream",
     "text": [
      "{'max_depth': 13} 0.709888888888889\n",
      "0.6064999999999999\n"
     ]
    }
   ],
   "source": [
    "# Model fitting  for multi-classification using Embedded Methods\n",
    "import pandas as pd\n",
    "from sklearn.feature_selection import SelectFromModel\n",
    "from sklearn.ensemble import RandomForestClassifier as RFC\n",
    "from sklearn.model_selection import cross_val_score\n",
    "\n",
    "RFC_ = RFC(random_state=90)\n",
    "\n",
    "X_embedded_multi = SelectFromModel(RFC_, threshold = -np.inf, max_features = 4).fit_transform(X_multi, y_multi)\n",
    "X_embedded_train_multi,X_embedded_test_multi, y_embedded_train_multi, y_embedded_test_multi = train_test_split(X_embedded_multi,y_multi,\n",
    "                                                                                                    test_size=0.1,random_state=90)\n",
    "\n",
    "\n",
    "score_lt = []\n",
    "\n",
    "\n",
    "for i in range(0,300,10):\n",
    "    rfc = RandomForestClassifier(n_estimators=i+1\n",
    "                                ,random_state=90)\n",
    "    score = cross_val_score(rfc, X_embedded_train_multi, y_embedded_train_multi, cv=5).mean()\n",
    "    score_lt.append(score)\n",
    "score_max = max(score_lt)\n",
    "print('max score：{}'.format(score_max),\n",
    "      'number of subtree for max_score：{}'.format(score_lt.index(score_max)*10+1))\n",
    "\n",
    "\n",
    "x = np.arange(1,301,10)\n",
    "plt.subplot(111)\n",
    "plt.plot(x, score_lt, 'r-')\n",
    "plt.show()\n",
    "\n",
    "rfc = RandomForestClassifier(n_estimators=score_lt.index(score_max)*10+1, random_state=90)\n",
    "\n",
    "# Adjustment with grid search for max_depth\n",
    "param_grid = {'max_depth':np.arange(1,20)}\n",
    "GS = GridSearchCV(rfc, param_grid, cv=5)\n",
    "GS.fit(X_embedded_train_multi, y_embedded_train_multi)\n",
    "\n",
    "best_param = GS.best_params_\n",
    "best_score = GS.best_score_\n",
    "print(best_param, best_score)\n",
    "\n",
    "newRFC = RandomForestClassifier(n_estimators=score_lt.index(score_max)*10+1, random_state=90, max_depth=best_param['max_depth'])\n",
    "\n",
    "\n",
    "score = cross_val_score(newRFC, X_embedded_test_multi, y_embedded_test_multi, cv=5).mean()\n",
    "print(score)  "
   ]
  },
  {
   "cell_type": "code",
   "execution_count": null,
   "id": "7f02cd5f",
   "metadata": {},
   "outputs": [],
   "source": []
  }
 ],
 "metadata": {
  "kernelspec": {
   "display_name": "Python 3 (ipykernel)",
   "language": "python",
   "name": "python3"
  },
  "language_info": {
   "codemirror_mode": {
    "name": "ipython",
    "version": 3
   },
   "file_extension": ".py",
   "mimetype": "text/x-python",
   "name": "python",
   "nbconvert_exporter": "python",
   "pygments_lexer": "ipython3",
   "version": "3.9.7"
  }
 },
 "nbformat": 4,
 "nbformat_minor": 5
}
